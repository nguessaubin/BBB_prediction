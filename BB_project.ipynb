{
 "cells": [
  {
   "cell_type": "code",
   "execution_count": 1,
   "id": "cd13f989",
   "metadata": {},
   "outputs": [],
   "source": [
    "import pandas as pd\n",
    "#Bilal Shaker1 et al.2020\n",
    "data = \"D:\\\\BBB_QSAR\\\\Folder_BB\\\\LightBBB_dataset\\\\y_test_indices.csv\"\n",
    "BB_data_bilal1 = pd.read_csv(data)\n",
    "BB_data_bilal1.rename(columns={'Unnamed: 0':'Name'},inplace=True)\n",
    "BB_data_bilal1.set_index('Name',inplace=True)"
   ]
  },
  {
   "cell_type": "code",
   "execution_count": 2,
   "id": "85cf24ca",
   "metadata": {},
   "outputs": [],
   "source": [
    "#Bilal Shaker1 et al.2023\n",
    "data1 = \"D:\\\\BBB_QSAR\\\\dataset\\\\dataset.csv\"\n",
    "BB_data_bilal2 = pd.read_csv(data1, index_col='NAME')"
   ]
  },
  {
   "cell_type": "code",
   "execution_count": 3,
   "id": "e89a908e",
   "metadata": {},
   "outputs": [],
   "source": [
    "mols_bilal1 =list(BB_data_bilal1.index)\n",
    "mols_bilal2 =list(BB_data_bilal2.index)"
   ]
  },
  {
   "cell_type": "code",
   "execution_count": 4,
   "id": "44d8a108",
   "metadata": {},
   "outputs": [],
   "source": [
    "BB_data_bilal_1 = BB_data_bilal1.copy()\n",
    "BB_data_bilal_2= BB_data_bilal2.copy()"
   ]
  },
  {
   "cell_type": "code",
   "execution_count": 5,
   "id": "d7d8cda6",
   "metadata": {},
   "outputs": [],
   "source": [
    "# Fanwang Meng, Yang Xi, Jinfeng Huang & Paul W. Ayers \n",
    "df_new = pd.read_csv('D:\\\\BBB_QSAR\\\\B3DB_regression.tsv', sep='\\t')"
   ]
  },
  {
   "cell_type": "code",
   "execution_count": 6,
   "id": "f4333556",
   "metadata": {},
   "outputs": [],
   "source": [
    "# Prabha Garg and Jitender Verma (2005): In Silico Prediction of Blood Brain Barrier Permeability:  An Artificial Neural Network Model\n",
    "import xlrd\n",
    "BB_prabha = pd.read_excel('D:\\\\BBB_QSAR\\\\data_2.xls')"
   ]
  },
  {
   "cell_type": "code",
   "execution_count": 8,
   "id": "82f1e795",
   "metadata": {},
   "outputs": [
    {
     "data": {
      "text/plain": [
       "7162"
      ]
     },
     "execution_count": 8,
     "metadata": {},
     "output_type": "execute_result"
    }
   ],
   "source": [
    "len(mols_bilal1)"
   ]
  },
  {
   "cell_type": "code",
   "execution_count": 9,
   "id": "98195605",
   "metadata": {},
   "outputs": [
    {
     "data": {
      "text/plain": [
       "1000"
      ]
     },
     "execution_count": 9,
     "metadata": {},
     "output_type": "execute_result"
    }
   ],
   "source": [
    "len(mols_bilal2)"
   ]
  },
  {
   "cell_type": "markdown",
   "id": "0d0e4478",
   "metadata": {},
   "source": [
    "# HERE, we look to see if logBB values are below -2.25"
   ]
  },
  {
   "cell_type": "code",
   "execution_count": null,
   "id": "1c73e9c8",
   "metadata": {},
   "outputs": [],
   "source": [
    "indice = []\n",
    "# for bilal 1\n",
    "for i in range(BB_data_bilal1.shape[0]):\n",
    "    if BB_data_bilal1.iloc[i,0] < -2.25:\n",
    "        indice.append(i)\n",
    "indice"
   ]
  },
  {
   "cell_type": "code",
   "execution_count": null,
   "id": "189cbb37",
   "metadata": {},
   "outputs": [],
   "source": [
    "indice1 = []\n",
    "# for bilal 2\n",
    "for i in range(BB_data_bilal2.shape[0]):\n",
    "    if BB_data_bilal2.iloc[i,919] < -2.25:\n",
    "        indice1.append(i)\n",
    "indice1  "
   ]
  },
  {
   "cell_type": "markdown",
   "id": "5ffcf81d",
   "metadata": {},
   "source": [
    "# Visualisation"
   ]
  },
  {
   "cell_type": "code",
   "execution_count": null,
   "id": "584e5fcd",
   "metadata": {},
   "outputs": [],
   "source": [
    "from rdkit import Chem\n",
    "from rdkit.Chem import Draw\n",
    "m_bilal1 = Chem.MolFromSmiles(mols_bilal1[5])\n",
    "m_bilal2 = Chem.MolFromSmiles(mols_bilal1[714])\n",
    "img1 = Draw.MolToImage(m_bilal1)\n",
    "img1\n",
    "#img2 = Draw.MolToImage(m_bilal2) "
   ]
  },
  {
   "cell_type": "code",
   "execution_count": null,
   "id": "60f94577",
   "metadata": {},
   "outputs": [],
   "source": [
    "img2 = Draw.MolToImage(m_bilal2) \n",
    "img2"
   ]
  },
  {
   "cell_type": "markdown",
   "id": "b8048889",
   "metadata": {},
   "source": [
    "# 1.1. Search duplicates"
   ]
  },
  {
   "cell_type": "code",
   "execution_count": 10,
   "id": "bd9e84ed",
   "metadata": {},
   "outputs": [],
   "source": [
    "def Search_duplicates(mol_list):\n",
    "    \" Give mol list to detect doublons\"\n",
    "    dupl_list=[]\n",
    "    j=0\n",
    "    length = len(mol_list)\n",
    "    for i in range(length-1):\n",
    "        for j in range(i+1,length):\n",
    "            if mol_list[i]==mol_list[j]:\n",
    "                dupl_list.append(mol_list[j]) \n",
    "    return dupl_list"
   ]
  },
  {
   "cell_type": "markdown",
   "id": "2bfe71d8",
   "metadata": {},
   "source": [
    "## Remove duplicates in Billal1 data table"
   ]
  },
  {
   "cell_type": "code",
   "execution_count": 11,
   "id": "5632e0d9",
   "metadata": {},
   "outputs": [
    {
     "data": {
      "text/plain": [
       "['CC(=O)C',\n",
       " 'c1ccccc1',\n",
       " 'CCCCCCCC',\n",
       " 'CO',\n",
       " 'N#[N+][O-]',\n",
       " 'CCCO',\n",
       " 'CCCO',\n",
       " 'CCCO',\n",
       " 'Cc1ccccc1',\n",
       " 'CCC1(CC)C(=O)NC(=O)NC1=O',\n",
       " 'CCOC(=O)c1ccc(N)cc1',\n",
       " 'CC(N)Cc1ccccc1',\n",
       " 'CCOCC',\n",
       " 'CCOCC',\n",
       " 'FC(F)(F)C(Cl)Br',\n",
       " 'CC(C)O',\n",
       " 'CC(C)O',\n",
       " 'CCCC(C)C1(CC)C(=O)NC(=O)NC1=O',\n",
       " 'ClC(Cl)Cl',\n",
       " 'ClC(Cl)Cl',\n",
       " 'CCCCCO',\n",
       " 'C=C',\n",
       " 'C1CC1',\n",
       " 'C1CC1',\n",
       " 'C1CO1',\n",
       " 'CC(C)(C)O',\n",
       " 'CC(C)(C)CC',\n",
       " 'CC(C)CO',\n",
       " 'CC(C)CO',\n",
       " 'ClC(Cl)=CCl',\n",
       " 'CC(=O)OC',\n",
       " 'CCC(C)CC',\n",
       " 'CCC(C)CC',\n",
       " 'CC1CCCC1',\n",
       " 'CC1CCCC1',\n",
       " 'CC1CCCC1',\n",
       " 'CCc1ccccc1',\n",
       " 'Cc1ccc(C)cc1',\n",
       " 'CCCBr',\n",
       " 'C=CC=C',\n",
       " 'CC(C)CCC',\n",
       " 'CC1CCCCC1',\n",
       " 'CCCCC',\n",
       " 'CCCCC',\n",
       " 'CCCCC',\n",
       " 'C=COC=C',\n",
       " 'CCCCCC',\n",
       " 'CCCCCC',\n",
       " 'CCCCCC',\n",
       " 'C1CCCCC1',\n",
       " 'C1CCCCC1',\n",
       " 'C1CCCCC1',\n",
       " 'CCCCCCCCC',\n",
       " 'CC=C',\n",
       " 'CCCCCCC',\n",
       " 'CCCCCCC',\n",
       " 'FC(F)(F)COC=C',\n",
       " 'CC(C)(C)OC',\n",
       " 'CCCCCCCCCC',\n",
       " 'FS(F)(F)(F)(F)F',\n",
       " 'CC(C)(C)C1CCCCC1',\n",
       " 'C=COCCCCOC=C',\n",
       " 'CCCC(C)C1(CC)C(=O)NC(=S)NC1=O',\n",
       " 'CCC(C)CCC',\n",
       " 'C',\n",
       " 'CC(=O)Nc1ccc(O)cc1',\n",
       " 'ClCCl',\n",
       " 'ClCCl',\n",
       " 'C#CCO',\n",
       " 'CCCO',\n",
       " 'CCCO',\n",
       " 'ClCCl',\n",
       " 'Clc1cccc(Cl)c1NC2=NCCN2',\n",
       " 'ClC(Cl)Cl',\n",
       " 'CC(Cl)(Cl)Cl',\n",
       " 'CC(Cl)(Cl)Cl',\n",
       " 'CNCCCN1c2ccccc2Sc3ccccc13',\n",
       " 'N1(Cc2cccc(OCCCNc3ccccn3)c2)CCCCC1',\n",
       " 'CCCCC',\n",
       " 'CCCCC',\n",
       " 'CCCCCC',\n",
       " 'CCCCCC',\n",
       " 'C1CCCCC1',\n",
       " 'C1CCCCC1',\n",
       " 'CC1CCCC1',\n",
       " 'CC1CCCC1',\n",
       " 'CN(C)CCCN1c2ccccc2Sc3ccccc13',\n",
       " 'CN(C)CCCN1c2ccccc2Sc3ccc(Cl)cc13',\n",
       " 'CCOC(=O)N1CCC(CC1)=C3c2ccc(Cl)cc2CCc4cccnc34 ',\n",
       " 'COc3cc(NCc2ccc1nc(N)nc(N)c1c2C)cc(OC)c3OC ',\n",
       " 'CCCC(=O)Nc1ccc(OCC(O)CNC(C)C)c(c1)C(C)=O ',\n",
       " 'NCCC(O)C(=O)NC2CC(N)C(OC1OC(CN)C(O)C(O)C1O)C(O)C2OC3OC(CO)C(O)C(N)C3O ',\n",
       " 'CC3(C)SC2C(NC(=O)C(C(O)=O)c1ccccc1)C(=O)N2C3C(O)=O ',\n",
       " 'CCN(CC)CCCC(C)Nc1ccnc2cc(Cl)ccc12 ',\n",
       " 'Clc5ccc4n(C3CCN(CCCn1c(=O)[nH]c2ccccc12)CC3)c(=O)[nH]c4c5 ',\n",
       " 'CC34CCC1C(CCc2cc(O)ccc12)C3CCC4O ',\n",
       " 'NC(Cc1ccc(O)c(O)c1)C(O)=O ',\n",
       " 'CC2COc3c(N1CCN(C)CC1)c(F)cc4c(=O)c(cn2c34)C(O)=O ',\n",
       " 'CN(C)C4C3CC2Cc1c(ccc(O)c1C(=O)C2=C(O)C3(O)C(=O)C(=C4O)C(N)=O)N(C)C ',\n",
       " 'CC(C)NCC(O)COc1cccc2ccccc12 ',\n",
       " 'COc1cc(cc(OC)c1OC)C7C2C(COC2=O)C(OC4OC3COC(OC3C(O)C4O)c5cccs5)c8cc6OCOc6cc78 ',\n",
       " 'CCC1(O)C(=O)OCc5c1cc3n(Cc4cc2c(CN(C)C)c(O)ccc2nc34)c5=O ',\n",
       " 'COc2ccc(CCN(C)CCCC(C#N)(C(C)C)c1ccc(OC)c(OC)c1)cc2OC ',\n",
       " 'CC3C2C(O)C1C(N(C)C)C(=C(C(N)=O)C(=O)C1(O)C(=C2C(=O)c4c(O)cccc34)O)O ',\n",
       " 'CCC(=C(c1ccccc1)c2ccc(OCCN(C)C)cc2)c3ccccc3 ',\n",
       " 'CC3(C)SC2C(NC(=O)C(C(O)=O)c1ccsc1)C(=O)N2C3C(O)=O ',\n",
       " 'C(Cl)Cl',\n",
       " 'CCCC(C)C',\n",
       " 'CC(C)(C)OC(=O)C1=C2CN(C(=O)C3=C(N2C=N1)C=CS3)C',\n",
       " 'C1=CC=C2C(=C1)C3C(O3)C4=CC=CC=C4N2C(=O)N',\n",
       " 'C1CCCCC1',\n",
       " 'CC(Cl)(Cl)Cl',\n",
       " 'CC(C)CO',\n",
       " 'CCC(C)(C)C',\n",
       " 'CCCC(C)CC',\n",
       " 'CCC(C)CC',\n",
       " 'C1CC1',\n",
       " 'CCOCC',\n",
       " 'CCO',\n",
       " 'CCCCCCC',\n",
       " 'CCCCCC',\n",
       " 'CC1CCCC1',\n",
       " 'CCCCC',\n",
       " 'CCCO',\n",
       " 'CC(C)O',\n",
       " 'CCC1C(=O)N(CC(=O)N(C(C(=O)NC(C(=O)N(C(C(=O)NC(C(=O)NC(C(=O)N(C(C(=O)N(C(C(=O)N(C(C(=O)N(C(C(=O)N1)C(C(C)CC=CC)O)C)C(C)C)C)CC(C)C)C)CC(C)C)C)C)C)CC(C)C)C)C(C)C)CC(C)C)C)C',\n",
       " 'C(Cl)(Cl)Cl',\n",
       " 'CCCNC[C@@](O)([H])CO/C1=C/C=C/C=C1/C(=O)CC/C2=C/C=CC=C2',\n",
       " 'CCC(C)(C)O',\n",
       " 'N[C@@]([H])(C/C1=C/C=C(/O)C(O)=C1)C(O)=O',\n",
       " 'CCC1(C(=O)NCNC1=O)C2=CC=CC=C2',\n",
       " 'CC(CC1=CC=CC=C1)NC',\n",
       " 'C(=CCl)Cl']"
      ]
     },
     "execution_count": 11,
     "metadata": {},
     "output_type": "execute_result"
    }
   ],
   "source": [
    "dupl_list=Search_duplicates(mols_bilal1)\n",
    "dupl_list"
   ]
  },
  {
   "cell_type": "code",
   "execution_count": 12,
   "id": "997af27a",
   "metadata": {},
   "outputs": [],
   "source": [
    "# Remove duplicate\n",
    "BB_data_bilal_1.drop(dupl_list,axis=0, inplace=True)"
   ]
  },
  {
   "cell_type": "code",
   "execution_count": 13,
   "id": "f463830b",
   "metadata": {},
   "outputs": [
    {
     "data": {
      "text/html": [
       "<div>\n",
       "<style scoped>\n",
       "    .dataframe tbody tr th:only-of-type {\n",
       "        vertical-align: middle;\n",
       "    }\n",
       "\n",
       "    .dataframe tbody tr th {\n",
       "        vertical-align: top;\n",
       "    }\n",
       "\n",
       "    .dataframe thead th {\n",
       "        text-align: right;\n",
       "    }\n",
       "</style>\n",
       "<table border=\"1\" class=\"dataframe\">\n",
       "  <thead>\n",
       "    <tr style=\"text-align: right;\">\n",
       "      <th></th>\n",
       "      <th>logBB</th>\n",
       "      <th>BBclass</th>\n",
       "    </tr>\n",
       "    <tr>\n",
       "      <th>Name</th>\n",
       "      <th></th>\n",
       "      <th></th>\n",
       "    </tr>\n",
       "  </thead>\n",
       "  <tbody>\n",
       "    <tr>\n",
       "      <th>c1cc(F)ccc1Cn(c(c23)cccc2)c(n3)[C@@H]4CCCN(C)C4</th>\n",
       "      <td>0.43</td>\n",
       "      <td>1</td>\n",
       "    </tr>\n",
       "    <tr>\n",
       "      <th>CC1CCN(CC1)C(=O)c(c2)ccc3n(CC=C)c(c4c23)CCN(C4)CC5CC5</th>\n",
       "      <td>-0.13</td>\n",
       "      <td>0</td>\n",
       "    </tr>\n",
       "    <tr>\n",
       "      <th>ClCCCl</th>\n",
       "      <td>-0.14</td>\n",
       "      <td>1</td>\n",
       "    </tr>\n",
       "    <tr>\n",
       "      <th>c1cccc(c1C23C)C(N3)Cc4c2cccc4</th>\n",
       "      <td>1.11</td>\n",
       "      <td>1</td>\n",
       "    </tr>\n",
       "    <tr>\n",
       "      <th>OCCCC</th>\n",
       "      <td>-0.02</td>\n",
       "      <td>0</td>\n",
       "    </tr>\n",
       "    <tr>\n",
       "      <th>...</th>\n",
       "      <td>...</td>\n",
       "      <td>...</td>\n",
       "    </tr>\n",
       "    <tr>\n",
       "      <th>CC1=CC=CC2=C1OC3=CC=CC=C3C4(C2CNCC4)O</th>\n",
       "      <td>0.52</td>\n",
       "      <td>1</td>\n",
       "    </tr>\n",
       "    <tr>\n",
       "      <th>C(C(F)Br)C(F)(F)F</th>\n",
       "      <td>0.27</td>\n",
       "      <td>1</td>\n",
       "    </tr>\n",
       "    <tr>\n",
       "      <th>C[NH2+]CCCN1C2=C(CCC3=CC=CC=C31)C=C(C=C2)O</th>\n",
       "      <td>0.53</td>\n",
       "      <td>1</td>\n",
       "    </tr>\n",
       "    <tr>\n",
       "      <th>C1=CSC(=N1)CC[NH3+]</th>\n",
       "      <td>-0.58</td>\n",
       "      <td>1</td>\n",
       "    </tr>\n",
       "    <tr>\n",
       "      <th>C1C2CNC(C1C3=CC=CC(=O)N3C2)Br</th>\n",
       "      <td>-0.05</td>\n",
       "      <td>1</td>\n",
       "    </tr>\n",
       "  </tbody>\n",
       "</table>\n",
       "<p>6963 rows × 2 columns</p>\n",
       "</div>"
      ],
      "text/plain": [
       "                                                    logBB  BBclass\n",
       "Name                                                              \n",
       "c1cc(F)ccc1Cn(c(c23)cccc2)c(n3)[C@@H]4CCCN(C)C4      0.43        1\n",
       "CC1CCN(CC1)C(=O)c(c2)ccc3n(CC=C)c(c4c23)CCN(C4)...  -0.13        0\n",
       "ClCCCl                                              -0.14        1\n",
       "c1cccc(c1C23C)C(N3)Cc4c2cccc4                        1.11        1\n",
       "OCCCC                                               -0.02        0\n",
       "...                                                   ...      ...\n",
       "CC1=CC=CC2=C1OC3=CC=CC=C3C4(C2CNCC4)O                0.52        1\n",
       "C(C(F)Br)C(F)(F)F                                    0.27        1\n",
       "C[NH2+]CCCN1C2=C(CCC3=CC=CC=C31)C=C(C=C2)O           0.53        1\n",
       "C1=CSC(=N1)CC[NH3+]                                 -0.58        1\n",
       "C1C2CNC(C1C3=CC=CC(=O)N3C2)Br                       -0.05        1\n",
       "\n",
       "[6963 rows x 2 columns]"
      ]
     },
     "execution_count": 13,
     "metadata": {},
     "output_type": "execute_result"
    }
   ],
   "source": [
    "BB_data_bilal_1"
   ]
  },
  {
   "cell_type": "markdown",
   "id": "58813471",
   "metadata": {},
   "source": [
    "## Remove duplicates in Billal2 data table"
   ]
  },
  {
   "cell_type": "code",
   "execution_count": null,
   "id": "7adaf35a",
   "metadata": {},
   "outputs": [],
   "source": [
    "dupl_list2=Search_duplicates(mols_bilal2)\n",
    "dupl_list2"
   ]
  },
  {
   "cell_type": "markdown",
   "id": "460b618c",
   "metadata": {},
   "source": [
    "## Remove Nan values_Billal1"
   ]
  },
  {
   "cell_type": "code",
   "execution_count": null,
   "id": "e9f293fc",
   "metadata": {},
   "outputs": [],
   "source": [
    "index_nan_bilal1 =BB_data_bilal_1[BB_data_bilal_1.isna().any(axis=1)].index\n",
    "index_nan_bilal1"
   ]
  },
  {
   "cell_type": "code",
   "execution_count": null,
   "id": "89f5bc85",
   "metadata": {},
   "outputs": [],
   "source": [
    "# Good data bilal1\n",
    "logbb_bilal1=BB_data_bilal_1.drop(index_nan_bilal1,axis=0)"
   ]
  },
  {
   "cell_type": "code",
   "execution_count": null,
   "id": "42ad209e",
   "metadata": {},
   "outputs": [],
   "source": [
    "index_nan_bilal1[0]"
   ]
  },
  {
   "cell_type": "code",
   "execution_count": null,
   "id": "6cc367db",
   "metadata": {},
   "outputs": [],
   "source": [
    "BB_data_bilal_2[BB_data_bilal_2.isna().any(axis=1)]"
   ]
  },
  {
   "cell_type": "code",
   "execution_count": null,
   "id": "a08b1c71",
   "metadata": {},
   "outputs": [],
   "source": [
    "logbb_billal2=BB_data_bilal_2['logBB']"
   ]
  },
  {
   "cell_type": "code",
   "execution_count": null,
   "id": "6b1a4480",
   "metadata": {},
   "outputs": [],
   "source": [
    "def Search_duplicates_twolist(mol_list1,mol_list2):\n",
    "    \" Give mol list to detect doublons\"\n",
    "    dupl_list_twolist=[]\n",
    "    j=0\n",
    "    length1 = len(mol_list1)\n",
    "    length2 = len(mol_list2)\n",
    "    for i in range(length1):\n",
    "        for j in range(length2):\n",
    "            if mol_list1[i]==mol_list2[j]:\n",
    "                dupl_list_twolist.append(mol_list2[j]) \n",
    "    return dupl_list_twolist"
   ]
  },
  {
   "cell_type": "code",
   "execution_count": null,
   "id": "f823eff3",
   "metadata": {},
   "outputs": [],
   "source": [
    "res = Search_duplicates_twolist(logbb_bilal1.index,logbb_billal2.index)\n",
    "res"
   ]
  },
  {
   "cell_type": "code",
   "execution_count": null,
   "id": "86cafb36",
   "metadata": {},
   "outputs": [],
   "source": [
    "logbb_billal2_withB1 = logbb_billal2.drop(res,axis=0)"
   ]
  },
  {
   "cell_type": "code",
   "execution_count": null,
   "id": "a357f479",
   "metadata": {},
   "outputs": [],
   "source": [
    "type(logbb_billal2_withB1)"
   ]
  },
  {
   "cell_type": "code",
   "execution_count": null,
   "id": "df67f935",
   "metadata": {},
   "outputs": [],
   "source": [
    "logbb_billal1_withB2=logbb_bilal1['logBB']"
   ]
  },
  {
   "cell_type": "code",
   "execution_count": null,
   "id": "7256e528",
   "metadata": {},
   "outputs": [],
   "source": [
    "logbb_billal2_withB1"
   ]
  },
  {
   "cell_type": "code",
   "execution_count": null,
   "id": "732b3b2c",
   "metadata": {},
   "outputs": [],
   "source": [
    "logbb_billal1_withB2"
   ]
  },
  {
   "cell_type": "code",
   "execution_count": null,
   "id": "46127dd1",
   "metadata": {},
   "outputs": [],
   "source": [
    "data_final = [logbb_billal2_withB1, logbb_billal1_withB2]"
   ]
  },
  {
   "cell_type": "code",
   "execution_count": null,
   "id": "32f9ba05",
   "metadata": {},
   "outputs": [],
   "source": [
    "data_result = pd.concat(data_final)"
   ]
  },
  {
   "cell_type": "code",
   "execution_count": null,
   "id": "72ec4396",
   "metadata": {},
   "outputs": [],
   "source": [
    "df_res =data_result.to_frame()"
   ]
  },
  {
   "cell_type": "code",
   "execution_count": null,
   "id": "508e4f28",
   "metadata": {},
   "outputs": [],
   "source": [
    "# Final Data\n",
    "df_res"
   ]
  },
  {
   "cell_type": "markdown",
   "id": "3c8aab7e",
   "metadata": {},
   "source": [
    "# Autres data"
   ]
  },
  {
   "cell_type": "code",
   "execution_count": null,
   "id": "1a14735a",
   "metadata": {},
   "outputs": [],
   "source": [
    "# Autres data\n",
    "col =['SMILES','logBB']\n",
    "df_new[col]"
   ]
  },
  {
   "cell_type": "code",
   "execution_count": null,
   "id": "def40dfd",
   "metadata": {},
   "outputs": [],
   "source": [
    "smiles_test =list(df_new['SMILES'])"
   ]
  },
  {
   "cell_type": "code",
   "execution_count": null,
   "id": "9334edbb",
   "metadata": {},
   "outputs": [],
   "source": [
    "smiles_test"
   ]
  },
  {
   "cell_type": "code",
   "execution_count": null,
   "id": "25508156",
   "metadata": {},
   "outputs": [],
   "source": [
    "dupl_smiles_test=Search_duplicates(smiles_test)\n",
    "dupl_smiles_test"
   ]
  },
  {
   "cell_type": "code",
   "execution_count": null,
   "id": "27279a61",
   "metadata": {},
   "outputs": [],
   "source": [
    "res_all = Search_duplicates_twolist(df_res.index,smiles_test)\n",
    "res_all"
   ]
  },
  {
   "cell_type": "code",
   "execution_count": null,
   "id": "ce33e28e",
   "metadata": {},
   "outputs": [],
   "source": [
    "len(res_all)"
   ]
  },
  {
   "cell_type": "code",
   "execution_count": null,
   "id": "fb8dc605",
   "metadata": {},
   "outputs": [],
   "source": [
    "df_new.rename(columns={'SMILES':'Name'},inplace=True)"
   ]
  },
  {
   "cell_type": "code",
   "execution_count": null,
   "id": "a2e179d1",
   "metadata": {},
   "outputs": [],
   "source": [
    "df_new.set_index(['Name'],inplace =True)"
   ]
  },
  {
   "cell_type": "code",
   "execution_count": null,
   "id": "737a86eb",
   "metadata": {},
   "outputs": [],
   "source": [
    "df_new_wduplic =df_new.drop(res_all,axis =0)['logBB']"
   ]
  },
  {
   "cell_type": "code",
   "execution_count": null,
   "id": "1345919b",
   "metadata": {},
   "outputs": [],
   "source": [
    "df_new_wduplic"
   ]
  },
  {
   "cell_type": "markdown",
   "id": "161d3b36",
   "metadata": {},
   "source": [
    "# Autre data2"
   ]
  },
  {
   "cell_type": "code",
   "execution_count": null,
   "id": "e6c22e0e",
   "metadata": {},
   "outputs": [],
   "source": [
    "BB_prabha.rename(columns={'Smiles Notations':'Name'},inplace=True)\n",
    "BB_prabha.set_index(['Name'],inplace =True)"
   ]
  },
  {
   "cell_type": "code",
   "execution_count": null,
   "id": "da973601",
   "metadata": {},
   "outputs": [],
   "source": [
    "BB_prabha.rename(columns={'Observed LogBB ':'logBB'},inplace=True)\n"
   ]
  },
  {
   "cell_type": "code",
   "execution_count": null,
   "id": "87d9f520",
   "metadata": {},
   "outputs": [],
   "source": [
    "BB_prabha.rename(columns={'Observed LogBB':'logBB'},inplace=True)"
   ]
  },
  {
   "cell_type": "code",
   "execution_count": null,
   "id": "f33093b8",
   "metadata": {},
   "outputs": [],
   "source": [
    "BB_prabha"
   ]
  },
  {
   "cell_type": "code",
   "execution_count": null,
   "id": "68bca4ef",
   "metadata": {},
   "outputs": [],
   "source": [
    "res_2 = Search_duplicates_twolist(df_res.index,BB_prabha.index)\n",
    "# il faut regarder aussi les molécules non organiques que tu dois enlever"
   ]
  },
  {
   "cell_type": "code",
   "execution_count": null,
   "id": "ed2fcbe0",
   "metadata": {},
   "outputs": [],
   "source": [
    "len(res_2)"
   ]
  },
  {
   "cell_type": "code",
   "execution_count": null,
   "id": "b0da4340",
   "metadata": {},
   "outputs": [],
   "source": [
    "df_res.shape"
   ]
  },
  {
   "cell_type": "code",
   "execution_count": null,
   "id": "3dc51987",
   "metadata": {},
   "outputs": [],
   "source": [
    "BB_prabha.shape"
   ]
  },
  {
   "cell_type": "code",
   "execution_count": null,
   "id": "479b8348",
   "metadata": {},
   "outputs": [],
   "source": [
    "BB_prabha.rename(columns={'Observed LogBB ':'logBB'},inplace=True)\n"
   ]
  },
  {
   "cell_type": "code",
   "execution_count": null,
   "id": "c865a124",
   "metadata": {},
   "outputs": [],
   "source": [
    "BB_prabha"
   ]
  },
  {
   "cell_type": "code",
   "execution_count": null,
   "id": "a84a85a2",
   "metadata": {},
   "outputs": [],
   "source": [
    "BB_prabha_withdup=BB_prabha.drop(res_2,axis =0)['logBB']"
   ]
  },
  {
   "cell_type": "code",
   "execution_count": null,
   "id": "e04168e0",
   "metadata": {},
   "outputs": [],
   "source": [
    "BB_prabha_withdup"
   ]
  },
  {
   "cell_type": "markdown",
   "id": "608119e9",
   "metadata": {},
   "source": [
    "## DATAFRAME...."
   ]
  },
  {
   "cell_type": "code",
   "execution_count": null,
   "id": "6a123714",
   "metadata": {},
   "outputs": [],
   "source": [
    "df_final_4 = [logbb_billal2_withB1, logbb_billal1_withB2,df_new_wduplic,BB_prabha_withdup]"
   ]
  },
  {
   "cell_type": "code",
   "execution_count": null,
   "id": "8f25b0ee",
   "metadata": {},
   "outputs": [],
   "source": [
    "df_result_4_concats = pd.concat(df_final_4)\n",
    "df_4_all_data =df_result_4_concats.to_frame()"
   ]
  },
  {
   "cell_type": "code",
   "execution_count": null,
   "id": "90c9415c",
   "metadata": {},
   "outputs": [],
   "source": [
    "df_4_all_data.shape"
   ]
  },
  {
   "cell_type": "code",
   "execution_count": null,
   "id": "c7efaa04",
   "metadata": {},
   "outputs": [],
   "source": [
    "df_4_all_data.index.set_names('Name',inplace=True)"
   ]
  },
  {
   "cell_type": "code",
   "execution_count": null,
   "id": "949cd5f4",
   "metadata": {},
   "outputs": [],
   "source": [
    "list(df_4_all_data.index)"
   ]
  },
  {
   "cell_type": "code",
   "execution_count": null,
   "id": "965c3dcc",
   "metadata": {},
   "outputs": [],
   "source": [
    "test=Search_duplicates(list(df_4_all_data.index))\n",
    "test"
   ]
  },
  {
   "cell_type": "code",
   "execution_count": null,
   "id": "0068dced",
   "metadata": {},
   "outputs": [],
   "source": [
    "df_4_all_data.loc[test]"
   ]
  },
  {
   "cell_type": "code",
   "execution_count": null,
   "id": "7928225b",
   "metadata": {},
   "outputs": [],
   "source": [
    "df_4_all_data.loc[test].shape"
   ]
  },
  {
   "cell_type": "code",
   "execution_count": null,
   "id": "8fa9189b",
   "metadata": {},
   "outputs": [],
   "source": [
    "def mol_dp(mol,df):\n",
    "    for i,v in enumerate(df.index):\n",
    "        if v==mol:\n",
    "            return i\n",
    "    "
   ]
  },
  {
   "cell_type": "code",
   "execution_count": null,
   "id": "588981ac",
   "metadata": {},
   "outputs": [],
   "source": [
    "dupl = []\n",
    "for mol in test:\n",
    "    dupl.append(mol_dp(mol,df_4_all_data))\n",
    "dupl"
   ]
  },
  {
   "cell_type": "code",
   "execution_count": null,
   "id": "8293cbfe",
   "metadata": {},
   "outputs": [],
   "source": [
    "df_4_all_data.reset_index(inplace=True)"
   ]
  },
  {
   "cell_type": "code",
   "execution_count": null,
   "id": "d7dc4dfc",
   "metadata": {},
   "outputs": [],
   "source": [
    "df_4_all_data"
   ]
  },
  {
   "cell_type": "code",
   "execution_count": null,
   "id": "2ffbcdf2",
   "metadata": {},
   "outputs": [],
   "source": [
    "df_4_all_data['Number']=range(1,len(df_4_all_data)+1)\n",
    "df_4_all_data.set_index(['Number'],inplace =True)"
   ]
  },
  {
   "cell_type": "code",
   "execution_count": null,
   "id": "81ffdf1d",
   "metadata": {},
   "outputs": [],
   "source": [
    "df_4_all_data"
   ]
  },
  {
   "cell_type": "code",
   "execution_count": null,
   "id": "bdd76697",
   "metadata": {},
   "outputs": [],
   "source": [
    "df_4_all_data.iloc[dupl]"
   ]
  },
  {
   "cell_type": "code",
   "execution_count": null,
   "id": "9f1df074",
   "metadata": {},
   "outputs": [],
   "source": [
    "df_4_all_data.shape"
   ]
  },
  {
   "cell_type": "code",
   "execution_count": null,
   "id": "08889014",
   "metadata": {},
   "outputs": [],
   "source": [
    "dupl"
   ]
  },
  {
   "cell_type": "code",
   "execution_count": null,
   "id": "33755c4f",
   "metadata": {},
   "outputs": [],
   "source": [
    "df_4_all_data.shape"
   ]
  },
  {
   "cell_type": "code",
   "execution_count": null,
   "id": "5b07b219",
   "metadata": {},
   "outputs": [],
   "source": [
    "df_update = df_4_all_data.copy()"
   ]
  },
  {
   "cell_type": "code",
   "execution_count": null,
   "id": "448df64f",
   "metadata": {},
   "outputs": [],
   "source": [
    "df_done_4=df_4_all_data.drop(dupl,axis=0)\n",
    "df_done_4.shape"
   ]
  },
  {
   "cell_type": "code",
   "execution_count": null,
   "id": "89039cb9",
   "metadata": {},
   "outputs": [],
   "source": [
    "df_4_all_data.to_csv('df_all_4.csv')"
   ]
  },
  {
   "cell_type": "code",
   "execution_count": null,
   "id": "ea16e026",
   "metadata": {},
   "outputs": [],
   "source": [
    "pwd"
   ]
  },
  {
   "cell_type": "code",
   "execution_count": null,
   "id": "224d0131",
   "metadata": {},
   "outputs": [],
   "source": [
    "test_df=pd.read_csv('df_all_4.csv')"
   ]
  },
  {
   "cell_type": "code",
   "execution_count": null,
   "id": "e70a19a3",
   "metadata": {},
   "outputs": [],
   "source": [
    "df_update.set_index(['Name'],inplace =True)"
   ]
  },
  {
   "cell_type": "code",
   "execution_count": null,
   "id": "5ef2f05f",
   "metadata": {},
   "outputs": [],
   "source": [
    "yes=Search_duplicates(df_update.index)\n",
    "yes"
   ]
  },
  {
   "cell_type": "code",
   "execution_count": null,
   "id": "18327fc7",
   "metadata": {},
   "outputs": [],
   "source": [
    "df_update.loc[yes]"
   ]
  },
  {
   "cell_type": "code",
   "execution_count": null,
   "id": "9904c201",
   "metadata": {},
   "outputs": [],
   "source": [
    "for i in df_update.index:\n",
    "    if i=='C(Cl)Cl':\n",
    "        print(i)"
   ]
  },
  {
   "cell_type": "markdown",
   "id": "acf49e62",
   "metadata": {},
   "source": [
    "# TEST"
   ]
  },
  {
   "cell_type": "code",
   "execution_count": null,
   "id": "e065e204",
   "metadata": {},
   "outputs": [],
   "source": [
    "df_4_all_data.iloc[2808]"
   ]
  },
  {
   "cell_type": "code",
   "execution_count": null,
   "id": "d985f26b",
   "metadata": {},
   "outputs": [],
   "source": [
    "'CC(Cl)(Cl)Cl'in list(df_3_all_data.index)"
   ]
  },
  {
   "cell_type": "code",
   "execution_count": null,
   "id": "1f94c07d",
   "metadata": {},
   "outputs": [],
   "source": [
    "df_3_all_data.loc['CCCCCCCC']"
   ]
  },
  {
   "cell_type": "code",
   "execution_count": null,
   "id": "3f954177",
   "metadata": {},
   "outputs": [],
   "source": [
    "BB_data_bilal1.loc['CCCCCCCC']['logBB']"
   ]
  },
  {
   "cell_type": "code",
   "execution_count": null,
   "id": "a9e7d9dd",
   "metadata": {},
   "outputs": [],
   "source": [
    "BB_data_bilal2.loc['CC(Cl)(Cl)Cl']['logBB']"
   ]
  },
  {
   "cell_type": "code",
   "execution_count": null,
   "id": "e1cf10ca",
   "metadata": {},
   "outputs": [],
   "source": [
    "BB_prabha.loc['C(C)(Cl)(Cl)Cl']['Observed LogBB ']"
   ]
  },
  {
   "cell_type": "code",
   "execution_count": null,
   "id": "d6726f15",
   "metadata": {},
   "outputs": [],
   "source": [
    "df_new.loc['C']['logBB']"
   ]
  },
  {
   "cell_type": "code",
   "execution_count": null,
   "id": "62bd7ff2",
   "metadata": {},
   "outputs": [],
   "source": [
    "df_3_all_data.shape"
   ]
  },
  {
   "cell_type": "code",
   "execution_count": null,
   "id": "8f352e33",
   "metadata": {},
   "outputs": [],
   "source": [
    "m1 = Chem.MolFromSmiles('CN1C=NC2=C1C(=O)N(C(=O)N2C)C')\n",
    "im1 = Draw.MolToImage(m1)\n",
    "im1"
   ]
  },
  {
   "cell_type": "code",
   "execution_count": null,
   "id": "06e15e64",
   "metadata": {},
   "outputs": [],
   "source": []
  }
 ],
 "metadata": {
  "kernelspec": {
   "display_name": "rdkit_gnn",
   "language": "python",
   "name": "rdkit_gnn"
  },
  "language_info": {
   "codemirror_mode": {
    "name": "ipython",
    "version": 3
   },
   "file_extension": ".py",
   "mimetype": "text/x-python",
   "name": "python",
   "nbconvert_exporter": "python",
   "pygments_lexer": "ipython3",
   "version": "3.9.2"
  }
 },
 "nbformat": 4,
 "nbformat_minor": 5
}
