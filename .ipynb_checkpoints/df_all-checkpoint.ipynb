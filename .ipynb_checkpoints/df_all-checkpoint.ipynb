{
 "cells": [
  {
   "cell_type": "code",
   "execution_count": 1,
   "id": "1fb0ae8e",
   "metadata": {},
   "outputs": [],
   "source": [
    "import pandas as pd\n",
    "df = pd.read_csv('data_yes_data.csv')\n",
    "df.set_index('index',inplace=True)"
   ]
  },
  {
   "cell_type": "code",
   "execution_count": 2,
   "id": "1b775550",
   "metadata": {},
   "outputs": [],
   "source": [
    "df.drop('Unnamed: 0',axis=1, inplace=True)"
   ]
  },
  {
   "cell_type": "code",
   "execution_count": 3,
   "id": "a714ac89",
   "metadata": {},
   "outputs": [
    {
     "data": {
      "text/html": [
       "<div>\n",
       "<style scoped>\n",
       "    .dataframe tbody tr th:only-of-type {\n",
       "        vertical-align: middle;\n",
       "    }\n",
       "\n",
       "    .dataframe tbody tr th {\n",
       "        vertical-align: top;\n",
       "    }\n",
       "\n",
       "    .dataframe thead th {\n",
       "        text-align: right;\n",
       "    }\n",
       "</style>\n",
       "<table border=\"1\" class=\"dataframe\">\n",
       "  <thead>\n",
       "    <tr style=\"text-align: right;\">\n",
       "      <th></th>\n",
       "      <th>logBB</th>\n",
       "      <th>Ref</th>\n",
       "    </tr>\n",
       "    <tr>\n",
       "      <th>index</th>\n",
       "      <th></th>\n",
       "      <th></th>\n",
       "    </tr>\n",
       "  </thead>\n",
       "  <tbody>\n",
       "    <tr>\n",
       "      <th>c1cc(F)ccc1Cn(c(c23)cccc2)c(n3)[C@@H]4CCCN(C)C4</th>\n",
       "      <td>0.43</td>\n",
       "      <td>1</td>\n",
       "    </tr>\n",
       "    <tr>\n",
       "      <th>CC1CCN(CC1)C(=O)c(c2)ccc3n(CC=C)c(c4c23)CCN(C4)CC5CC5</th>\n",
       "      <td>-0.13</td>\n",
       "      <td>1</td>\n",
       "    </tr>\n",
       "    <tr>\n",
       "      <th>ClCCCl</th>\n",
       "      <td>-0.14</td>\n",
       "      <td>1</td>\n",
       "    </tr>\n",
       "    <tr>\n",
       "      <th>c1cccc(c1C23C)C(N3)Cc4c2cccc4</th>\n",
       "      <td>1.11</td>\n",
       "      <td>1</td>\n",
       "    </tr>\n",
       "    <tr>\n",
       "      <th>CC(=O)C</th>\n",
       "      <td>-0.15</td>\n",
       "      <td>1</td>\n",
       "    </tr>\n",
       "    <tr>\n",
       "      <th>...</th>\n",
       "      <td>...</td>\n",
       "      <td>...</td>\n",
       "    </tr>\n",
       "    <tr>\n",
       "      <th>C1(CCN)=NC=CS1</th>\n",
       "      <td>-0.42</td>\n",
       "      <td>5</td>\n",
       "    </tr>\n",
       "    <tr>\n",
       "      <th>C1=C(C2=CSC(CCN)=N2)C=CC=C1</th>\n",
       "      <td>-0.43</td>\n",
       "      <td>5</td>\n",
       "    </tr>\n",
       "    <tr>\n",
       "      <th>C1C=CN2C(C=1)=NC(CCN)=C2</th>\n",
       "      <td>0.25</td>\n",
       "      <td>5</td>\n",
       "    </tr>\n",
       "    <tr>\n",
       "      <th>N1(C2OC(CO)C(N=N=N)C2)C(=O)NC(=O)C(C)=C1</th>\n",
       "      <td>-0.72</td>\n",
       "      <td>5</td>\n",
       "    </tr>\n",
       "    <tr>\n",
       "      <th>S1C(NCCCOC4C=C(CN3CCCCC3)C=CC=4)=NC2C1=CC=CC=2</th>\n",
       "      <td>0.14</td>\n",
       "      <td>5</td>\n",
       "    </tr>\n",
       "  </tbody>\n",
       "</table>\n",
       "<p>3182 rows × 2 columns</p>\n",
       "</div>"
      ],
      "text/plain": [
       "                                                    logBB  Ref\n",
       "index                                                         \n",
       "c1cc(F)ccc1Cn(c(c23)cccc2)c(n3)[C@@H]4CCCN(C)C4      0.43    1\n",
       "CC1CCN(CC1)C(=O)c(c2)ccc3n(CC=C)c(c4c23)CCN(C4)...  -0.13    1\n",
       "ClCCCl                                              -0.14    1\n",
       "c1cccc(c1C23C)C(N3)Cc4c2cccc4                        1.11    1\n",
       "CC(=O)C                                             -0.15    1\n",
       "...                                                   ...  ...\n",
       "C1(CCN)=NC=CS1                                      -0.42    5\n",
       "C1=C(C2=CSC(CCN)=N2)C=CC=C1                         -0.43    5\n",
       "C1C=CN2C(C=1)=NC(CCN)=C2                             0.25    5\n",
       "N1(C2OC(CO)C(N=N=N)C2)C(=O)NC(=O)C(C)=C1            -0.72    5\n",
       "S1C(NCCCOC4C=C(CN3CCCCC3)C=CC=4)=NC2C1=CC=CC=2       0.14    5\n",
       "\n",
       "[3182 rows x 2 columns]"
      ]
     },
     "execution_count": 3,
     "metadata": {},
     "output_type": "execute_result"
    }
   ],
   "source": [
    "df"
   ]
  },
  {
   "cell_type": "code",
   "execution_count": 4,
   "id": "0a6f16f0",
   "metadata": {},
   "outputs": [
    {
     "name": "stderr",
     "output_type": "stream",
     "text": [
      "[11:42:13] Explicit valence for atom # 12 N, 4, is greater than permitted\n",
      "[11:42:13] Can't kekulize mol.  Unkekulized atoms: 2\n",
      "[11:42:14] SMILES Parse Error: syntax error while parsing: C4C6C7=C(C=CC=C7NC=6Br)C2C4(H)N(C)CC(C(=O)NC5(C(C)C)C(=O)N3C(O)(O5)C1(H)N(C(=O)C3CC(C)C)CCC1)C=2\n",
      "[11:42:14] SMILES Parse Error: Failed parsing SMILES 'C4C6C7=C(C=CC=C7NC=6Br)C2C4(H)N(C)CC(C(=O)NC5(C(C)C)C(=O)N3C(O)(O5)C1(H)N(C(=O)C3CC(C)C)CCC1)C=2' for input: 'C4C6C7=C(C=CC=C7NC=6Br)C2C4(H)N(C)CC(C(=O)NC5(C(C)C)C(=O)N3C(O)(O5)C1(H)N(C(=O)C3CC(C)C)CCC1)C=2'\n",
      "[11:42:14] SMILES Parse Error: syntax error while parsing: C(F)(F)(F)C(H)(H)Cl\n",
      "[11:42:14] SMILES Parse Error: Failed parsing SMILES 'C(F)(F)(F)C(H)(H)Cl' for input: 'C(F)(F)(F)C(H)(H)Cl'\n",
      "[11:42:14] SMILES Parse Error: syntax error while parsing: C(F)(F)(F)C(H)(H)OC=C\n",
      "[11:42:14] SMILES Parse Error: Failed parsing SMILES 'C(F)(F)(F)C(H)(H)OC=C' for input: 'C(F)(F)(F)C(H)(H)OC=C'\n",
      "[11:42:14] SMILES Parse Error: syntax error while parsing: C5(OC)=C2C3=C(C=C5)CC1C4(H)C3(C(C(O)C=C4)O2)CCN1C\n",
      "[11:42:14] SMILES Parse Error: Failed parsing SMILES 'C5(OC)=C2C3=C(C=C5)CC1C4(H)C3(C(C(O)C=C4)O2)CCN1C' for input: 'C5(OC)=C2C3=C(C=C5)CC1C4(H)C3(C(C(O)C=C4)O2)CCN1C'\n",
      "[11:42:14] SMILES Parse Error: syntax error while parsing: FC(F)(F)C(H)(F)OC(F)(F)H\n",
      "[11:42:14] SMILES Parse Error: Failed parsing SMILES 'FC(F)(F)C(H)(F)OC(F)(F)H' for input: 'FC(F)(F)C(H)(F)OC(F)(F)H'\n",
      "[11:42:14] SMILES Parse Error: syntax error while parsing: C52=C(C=C7C(=C5)C(OC6C(O)C(O)C4C(O6)COC(H)(C)O4)C1C(C7C3=CC(OC)=C(O)C(OC)=C3)C(=O)OC1)OCO2\n",
      "[11:42:14] SMILES Parse Error: Failed parsing SMILES 'C52=C(C=C7C(=C5)C(OC6C(O)C(O)C4C(O6)COC(H)(C)O4)C1C(C7C3=CC(OC)=C(O)C(OC)=C3)C(=O)OC1)OCO2' for input: 'C52=C(C=C7C(=C5)C(OC6C(O)C(O)C4C(O6)COC(H)(C)O4)C1C(C7C3=CC(OC)=C(O)C(OC)=C3)C(=O)OC1)OCO2'\n",
      "[11:42:14] SMILES Parse Error: syntax error while parsing: C1=CC(O)=C2OC3C45C2=C1CC(C4(H)C=CC3O)N(C)CC5\n",
      "[11:42:14] SMILES Parse Error: Failed parsing SMILES 'C1=CC(O)=C2OC3C45C2=C1CC(C4(H)C=CC3O)N(C)CC5' for input: 'C1=CC(O)=C2OC3C45C2=C1CC(C4(H)C=CC3O)N(C)CC5'\n",
      "[11:42:14] Explicit valence for atom # 1 N, 4, is greater than permitted\n",
      "[11:42:14] SMILES Parse Error: syntax error while parsing: OC(C3N4CCC(H)(C(C=C)C4)C3)C1=C2C=C(OC)C=CC2=NC=C1\n",
      "[11:42:14] SMILES Parse Error: Failed parsing SMILES 'OC(C3N4CCC(H)(C(C=C)C4)C3)C1=C2C=C(OC)C=CC2=NC=C1' for input: 'OC(C3N4CCC(H)(C(C=C)C4)C3)C1=C2C=C(OC)C=CC2=NC=C1'\n",
      "[11:42:14] Explicit valence for atom # 8 N, 4, is greater than permitted\n"
     ]
    }
   ],
   "source": [
    "from rdkit import DataStructs\n",
    "from rdkit import Chem\n",
    "from rdkit.Chem import Draw\n",
    "from rdkit.Chem import AllChem\n",
    "list_i=[]\n",
    "length = len(df.index)\n",
    "for i in range(length):\n",
    "    try:\n",
    "        Chem.RDKFingerprint(Chem.MolFromSmiles(df.index[i]))\n",
    "    except:\n",
    "        list_i.append(i)\n",
    "        continue"
   ]
  },
  {
   "cell_type": "code",
   "execution_count": 40,
   "id": "a5ad88d7",
   "metadata": {},
   "outputs": [
    {
     "data": {
      "text/plain": [
       "'S1C(NCCCOC4C=C(CN3CCCCC3)C=CC=4)=NC2C1=CC=CC=2'"
      ]
     },
     "execution_count": 40,
     "metadata": {},
     "output_type": "execute_result"
    }
   ],
   "source": [
    "df.reset_index().iloc[list_i[12]]['index']"
   ]
  },
  {
   "cell_type": "code",
   "execution_count": 41,
   "id": "828342fd",
   "metadata": {},
   "outputs": [],
   "source": [
    "# Dictionnaire de gestion du parseurs\n",
    "dic={df.reset_index().iloc[list_i[0]]['index']:'CC1=C(N=CN1)CSCCNC(=NC)NC#N',\n",
    "    df.reset_index().iloc[list_i[1]]['index']:'CN1C=NC2=C1C(=O)N(C(=O)N2)C',\n",
    "    df.reset_index().iloc[list_i[2]]['index']:'CC(C)CC1C(=O)N2CCCC2C3(N1C(=O)C(O3)(C(C)C)NC(=O)C4CN(C5CC6=C(NC7=CC=CC(=C67)C5=C4)Br)C)O',\n",
    "    df.reset_index().iloc[list_i[3]]['index']:'C(C(F)(F)F)Cl',\n",
    "    df.reset_index().iloc[list_i[4]]['index']:'C=COCC(F)(F)F',\n",
    "    df.reset_index().iloc[list_i[5]]['index']:'CN1CCC23C4C1CC5=C2C(=C(C=C5)OC)OC3C(C=C4)O',\n",
    "    df.reset_index().iloc[list_i[6]]['index']:'C(C(F)(F)F)(OC(F)F)F',\n",
    "    df.reset_index().iloc[list_i[7]]['index']:'CC1OCC2C(O1)C(C(C(O2)OC3C4COC(=O)C4C(C5=CC6=C(C=C35)OCO6)C7=CC(=C(C(=C7)OC)O)OC)O)O',\n",
    "    df.reset_index().iloc[list_i[8]]['index']:'CN1CCC23C4C1CC5=C2C(=C(C=C5)O)OC3C(C=C4)O',\n",
    "    df.reset_index().iloc[list_i[9]]['index']:'N#NO',\n",
    "    df.reset_index().iloc[list_i[10]]['index']:'COC1=CC2=C(C=CN=C2C=C1)C(C3CC4CCN3CC4C=C)O',\n",
    "    df.reset_index().iloc[list_i[11]]['index']:'CC1=CN(C(=O)NC1=O)C2CC(C(O2)CO)N=[N+]=N',\n",
    "    df.reset_index().iloc[list_i[12]]['index']:'C1CCN(CC1)CC2=CC(=CC=C2)OCCCNC3=NC4=CC=CC=C4S3'}"
   ]
  },
  {
   "cell_type": "code",
   "execution_count": 43,
   "id": "3fc09837",
   "metadata": {},
   "outputs": [],
   "source": [
    "df.rename(index = dic,inplace=True)"
   ]
  },
  {
   "cell_type": "code",
   "execution_count": 44,
   "id": "9a040d86",
   "metadata": {},
   "outputs": [],
   "source": [
    "df.to_csv('df_after_PARSE.csv')"
   ]
  },
  {
   "cell_type": "code",
   "execution_count": 45,
   "id": "7a74c749",
   "metadata": {},
   "outputs": [
    {
     "data": {
      "text/html": [
       "<div>\n",
       "<style scoped>\n",
       "    .dataframe tbody tr th:only-of-type {\n",
       "        vertical-align: middle;\n",
       "    }\n",
       "\n",
       "    .dataframe tbody tr th {\n",
       "        vertical-align: top;\n",
       "    }\n",
       "\n",
       "    .dataframe thead th {\n",
       "        text-align: right;\n",
       "    }\n",
       "</style>\n",
       "<table border=\"1\" class=\"dataframe\">\n",
       "  <thead>\n",
       "    <tr style=\"text-align: right;\">\n",
       "      <th></th>\n",
       "      <th>logBB</th>\n",
       "      <th>Ref</th>\n",
       "    </tr>\n",
       "    <tr>\n",
       "      <th>index</th>\n",
       "      <th></th>\n",
       "      <th></th>\n",
       "    </tr>\n",
       "  </thead>\n",
       "  <tbody>\n",
       "    <tr>\n",
       "      <th>c1cc(F)ccc1Cn(c(c23)cccc2)c(n3)[C@@H]4CCCN(C)C4</th>\n",
       "      <td>0.43</td>\n",
       "      <td>1</td>\n",
       "    </tr>\n",
       "    <tr>\n",
       "      <th>CC1CCN(CC1)C(=O)c(c2)ccc3n(CC=C)c(c4c23)CCN(C4)CC5CC5</th>\n",
       "      <td>-0.13</td>\n",
       "      <td>1</td>\n",
       "    </tr>\n",
       "    <tr>\n",
       "      <th>ClCCCl</th>\n",
       "      <td>-0.14</td>\n",
       "      <td>1</td>\n",
       "    </tr>\n",
       "    <tr>\n",
       "      <th>c1cccc(c1C23C)C(N3)Cc4c2cccc4</th>\n",
       "      <td>1.11</td>\n",
       "      <td>1</td>\n",
       "    </tr>\n",
       "    <tr>\n",
       "      <th>CC(=O)C</th>\n",
       "      <td>-0.15</td>\n",
       "      <td>1</td>\n",
       "    </tr>\n",
       "    <tr>\n",
       "      <th>...</th>\n",
       "      <td>...</td>\n",
       "      <td>...</td>\n",
       "    </tr>\n",
       "    <tr>\n",
       "      <th>C1(CCN)=NC=CS1</th>\n",
       "      <td>-0.42</td>\n",
       "      <td>5</td>\n",
       "    </tr>\n",
       "    <tr>\n",
       "      <th>C1=C(C2=CSC(CCN)=N2)C=CC=C1</th>\n",
       "      <td>-0.43</td>\n",
       "      <td>5</td>\n",
       "    </tr>\n",
       "    <tr>\n",
       "      <th>C1C=CN2C(C=1)=NC(CCN)=C2</th>\n",
       "      <td>0.25</td>\n",
       "      <td>5</td>\n",
       "    </tr>\n",
       "    <tr>\n",
       "      <th>CC1=CN(C(=O)NC1=O)C2CC(C(O2)CO)N=[N+]=N</th>\n",
       "      <td>-0.72</td>\n",
       "      <td>5</td>\n",
       "    </tr>\n",
       "    <tr>\n",
       "      <th>C1CCN(CC1)CC2=CC(=CC=C2)OCCCNC3=NC4=CC=CC=C4S3</th>\n",
       "      <td>0.14</td>\n",
       "      <td>5</td>\n",
       "    </tr>\n",
       "  </tbody>\n",
       "</table>\n",
       "<p>3182 rows × 2 columns</p>\n",
       "</div>"
      ],
      "text/plain": [
       "                                                    logBB  Ref\n",
       "index                                                         \n",
       "c1cc(F)ccc1Cn(c(c23)cccc2)c(n3)[C@@H]4CCCN(C)C4      0.43    1\n",
       "CC1CCN(CC1)C(=O)c(c2)ccc3n(CC=C)c(c4c23)CCN(C4)...  -0.13    1\n",
       "ClCCCl                                              -0.14    1\n",
       "c1cccc(c1C23C)C(N3)Cc4c2cccc4                        1.11    1\n",
       "CC(=O)C                                             -0.15    1\n",
       "...                                                   ...  ...\n",
       "C1(CCN)=NC=CS1                                      -0.42    5\n",
       "C1=C(C2=CSC(CCN)=N2)C=CC=C1                         -0.43    5\n",
       "C1C=CN2C(C=1)=NC(CCN)=C2                             0.25    5\n",
       "CC1=CN(C(=O)NC1=O)C2CC(C(O2)CO)N=[N+]=N             -0.72    5\n",
       "C1CCN(CC1)CC2=CC(=CC=C2)OCCCNC3=NC4=CC=CC=C4S3       0.14    5\n",
       "\n",
       "[3182 rows x 2 columns]"
      ]
     },
     "execution_count": 45,
     "metadata": {},
     "output_type": "execute_result"
    }
   ],
   "source": [
    "df"
   ]
  },
  {
   "cell_type": "code",
   "execution_count": null,
   "id": "18644d27",
   "metadata": {},
   "outputs": [],
   "source": []
  }
 ],
 "metadata": {
  "kernelspec": {
   "display_name": "rdkit_gnn",
   "language": "python",
   "name": "rdkit_gnn"
  },
  "language_info": {
   "codemirror_mode": {
    "name": "ipython",
    "version": 3
   },
   "file_extension": ".py",
   "mimetype": "text/x-python",
   "name": "python",
   "nbconvert_exporter": "python",
   "pygments_lexer": "ipython3",
   "version": "3.9.2"
  }
 },
 "nbformat": 4,
 "nbformat_minor": 5
}
