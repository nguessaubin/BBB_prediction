{
 "cells": [
  {
   "cell_type": "code",
   "execution_count": 2,
   "id": "ea935eb4",
   "metadata": {},
   "outputs": [],
   "source": [
    "import pandas as pd"
   ]
  },
  {
   "cell_type": "markdown",
   "id": "9d0dcb7a",
   "metadata": {},
   "source": [
    "## 1.Bilal Shaker1 et al.2023: A machine learning-based quantitative model(LogBB_Pred) to predict the blood–brain barrier permeability (logBB value) of drug compounds"
   ]
  },
  {
   "cell_type": "code",
   "execution_count": 3,
   "id": "3b61a57a",
   "metadata": {},
   "outputs": [],
   "source": [
    "data1 = \"D:\\\\BBB_QSAR\\\\dataset\\\\dataset.csv\"\n",
    "BB_data_bilal2 = pd.read_csv(data1, index_col='NAME')"
   ]
  },
  {
   "cell_type": "code",
   "execution_count": 14,
   "id": "27599f9d",
   "metadata": {},
   "outputs": [],
   "source": [
    "df_bilal2 = BB_data_bilal2[\"logBB\"].to_frame()"
   ]
  },
  {
   "cell_type": "code",
   "execution_count": 15,
   "id": "2e0dc812",
   "metadata": {},
   "outputs": [],
   "source": [
    "import numpy as np\n",
    "df_bilal2['Ref']=np.nan"
   ]
  },
  {
   "cell_type": "code",
   "execution_count": 17,
   "id": "b89a7ee0",
   "metadata": {},
   "outputs": [
    {
     "data": {
      "text/html": [
       "<div>\n",
       "<style scoped>\n",
       "    .dataframe tbody tr th:only-of-type {\n",
       "        vertical-align: middle;\n",
       "    }\n",
       "\n",
       "    .dataframe tbody tr th {\n",
       "        vertical-align: top;\n",
       "    }\n",
       "\n",
       "    .dataframe thead th {\n",
       "        text-align: right;\n",
       "    }\n",
       "</style>\n",
       "<table border=\"1\" class=\"dataframe\">\n",
       "  <thead>\n",
       "    <tr style=\"text-align: right;\">\n",
       "      <th></th>\n",
       "      <th>logBB</th>\n",
       "      <th>Ref</th>\n",
       "    </tr>\n",
       "    <tr>\n",
       "      <th>NAME</th>\n",
       "      <th></th>\n",
       "      <th></th>\n",
       "    </tr>\n",
       "  </thead>\n",
       "  <tbody>\n",
       "    <tr>\n",
       "      <th>CN(C)Cc1ccc(-c2cccc(NC3N=CC=C3[N+](=O)[O-])c2)o1</th>\n",
       "      <td>-0.27</td>\n",
       "      <td>NaN</td>\n",
       "    </tr>\n",
       "    <tr>\n",
       "      <th>O=C(O)c1cc(N=Nc2ccc(S(=O)(=O)Nc3ccccn3)cc2)ccc1O</th>\n",
       "      <td>-2.69</td>\n",
       "      <td>NaN</td>\n",
       "    </tr>\n",
       "    <tr>\n",
       "      <th>COC1(NC(=O)C(C(=O)O)c2ccc(O)cc2)C(=O)N2C(C(=O)O)=C(CSc3nnnn3C)COC21</th>\n",
       "      <td>-2.52</td>\n",
       "      <td>NaN</td>\n",
       "    </tr>\n",
       "    <tr>\n",
       "      <th>Oc1c(I)cc(Cl)c2cccnc12</th>\n",
       "      <td>-2.40</td>\n",
       "      <td>NaN</td>\n",
       "    </tr>\n",
       "    <tr>\n",
       "      <th>CCNC(=NCCSCc1ncccc1Br)NC#N</th>\n",
       "      <td>-2.15</td>\n",
       "      <td>NaN</td>\n",
       "    </tr>\n",
       "    <tr>\n",
       "      <th>...</th>\n",
       "      <td>...</td>\n",
       "      <td>...</td>\n",
       "    </tr>\n",
       "    <tr>\n",
       "      <th>Nc1c(Cl)cc(C2=NCCn3nc4cc(C(F)(F)F)ccc4c32)cc1Cl</th>\n",
       "      <td>-0.40</td>\n",
       "      <td>NaN</td>\n",
       "    </tr>\n",
       "    <tr>\n",
       "      <th>CCOC(=O)C1=CCCC[C@H]1S(=O)(=O)Nc1ccc(F)cc1Cl</th>\n",
       "      <td>-0.20</td>\n",
       "      <td>NaN</td>\n",
       "    </tr>\n",
       "    <tr>\n",
       "      <th>CCC(=O)Nc1cc(O)nc2ncnn12</th>\n",
       "      <td>-0.30</td>\n",
       "      <td>NaN</td>\n",
       "    </tr>\n",
       "    <tr>\n",
       "      <th>N#Cc1ccc2c(c1)CCN(CCC1CCC(NC(=O)/C=C/c3cccc4cc[nH]c34)CC1)CC2</th>\n",
       "      <td>-0.20</td>\n",
       "      <td>NaN</td>\n",
       "    </tr>\n",
       "    <tr>\n",
       "      <th>CCCc1nnnn1-c1ccc(OC)c(CN[C@H]2CCCN[C@H]2c2ccccc2)c1</th>\n",
       "      <td>-0.17</td>\n",
       "      <td>NaN</td>\n",
       "    </tr>\n",
       "  </tbody>\n",
       "</table>\n",
       "<p>1000 rows × 2 columns</p>\n",
       "</div>"
      ],
      "text/plain": [
       "                                                    logBB  Ref\n",
       "NAME                                                          \n",
       "CN(C)Cc1ccc(-c2cccc(NC3N=CC=C3[N+](=O)[O-])c2)o1    -0.27  NaN\n",
       "O=C(O)c1cc(N=Nc2ccc(S(=O)(=O)Nc3ccccn3)cc2)ccc1O    -2.69  NaN\n",
       "COC1(NC(=O)C(C(=O)O)c2ccc(O)cc2)C(=O)N2C(C(=O)O...  -2.52  NaN\n",
       "Oc1c(I)cc(Cl)c2cccnc12                              -2.40  NaN\n",
       "CCNC(=NCCSCc1ncccc1Br)NC#N                          -2.15  NaN\n",
       "...                                                   ...  ...\n",
       "Nc1c(Cl)cc(C2=NCCn3nc4cc(C(F)(F)F)ccc4c32)cc1Cl     -0.40  NaN\n",
       "CCOC(=O)C1=CCCC[C@H]1S(=O)(=O)Nc1ccc(F)cc1Cl        -0.20  NaN\n",
       "CCC(=O)Nc1cc(O)nc2ncnn12                            -0.30  NaN\n",
       "N#Cc1ccc2c(c1)CCN(CCC1CCC(NC(=O)/C=C/c3cccc4cc[...  -0.20  NaN\n",
       "CCCc1nnnn1-c1ccc(OC)c(CN[C@H]2CCCN[C@H]2c2ccccc...  -0.17  NaN\n",
       "\n",
       "[1000 rows x 2 columns]"
      ]
     },
     "execution_count": 17,
     "metadata": {},
     "output_type": "execute_result"
    }
   ],
   "source": [
    "df_bilal2"
   ]
  },
  {
   "cell_type": "code",
   "execution_count": 19,
   "id": "c4090ecc",
   "metadata": {},
   "outputs": [],
   "source": [
    "def Search_duplicates(mol_list):\n",
    "    \" Give mol list to detect doublons\"\n",
    "    dupl_list=[]\n",
    "    j=0\n",
    "    length = len(mol_list)\n",
    "    for i in range(length-1):\n",
    "        for j in range(i+1,length):\n",
    "            if mol_list[i]==mol_list[j]:\n",
    "                dupl_list.append(mol_list[j]) \n",
    "    return dupl_list"
   ]
  },
  {
   "cell_type": "code",
   "execution_count": 20,
   "id": "6e3c334a",
   "metadata": {},
   "outputs": [
    {
     "data": {
      "text/plain": [
       "[]"
      ]
     },
     "execution_count": 20,
     "metadata": {},
     "output_type": "execute_result"
    }
   ],
   "source": [
    "dupli_bilal2=Search_duplicates(df_bilal2.index)\n",
    "dupli_bilal2"
   ]
  },
  {
   "cell_type": "code",
   "execution_count": null,
   "id": "373dc10a",
   "metadata": {},
   "outputs": [],
   "source": []
  }
 ],
 "metadata": {
  "kernelspec": {
   "display_name": "rdkit_gnn",
   "language": "python",
   "name": "rdkit_gnn"
  },
  "language_info": {
   "codemirror_mode": {
    "name": "ipython",
    "version": 3
   },
   "file_extension": ".py",
   "mimetype": "text/x-python",
   "name": "python",
   "nbconvert_exporter": "python",
   "pygments_lexer": "ipython3",
   "version": "3.9.2"
  }
 },
 "nbformat": 4,
 "nbformat_minor": 5
}
