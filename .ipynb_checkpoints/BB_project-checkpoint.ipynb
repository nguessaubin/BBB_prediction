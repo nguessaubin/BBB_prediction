{
 "cells": [
  {
   "cell_type": "code",
   "execution_count": 1,
   "id": "cd13f989",
   "metadata": {},
   "outputs": [],
   "source": [
    "import pandas as pd\n",
    "#Bilal Shaker1 et al.2020\n",
    "data = \"D:\\\\BBB_QSAR\\\\Folder_BB\\\\LightBBB_dataset\\\\y_test_indices.csv\"\n",
    "BB_data_bilal1 = pd.read_csv(data)\n",
    "BB_data_bilal1.rename(columns={'Unnamed: 0':'Name'},inplace=True)\n",
    "BB_data_bilal1.set_index('Name',inplace=True)"
   ]
  },
  {
   "cell_type": "code",
   "execution_count": 2,
   "id": "85cf24ca",
   "metadata": {},
   "outputs": [],
   "source": [
    "#Bilal Shaker1 et al.2023\n",
    "data1 = \"D:\\\\BBB_QSAR\\\\dataset\\\\dataset.csv\"\n",
    "BB_data_bilal2 = pd.read_csv(data1, index_col='NAME')"
   ]
  },
  {
   "cell_type": "code",
   "execution_count": 3,
   "id": "e89a908e",
   "metadata": {},
   "outputs": [],
   "source": [
    "mols_bilal1 =list(BB_data_bilal1.index)\n",
    "mols_bilal2 =list(BB_data_bilal2.index)"
   ]
  },
  {
   "cell_type": "code",
   "execution_count": 4,
   "id": "2ff6de75",
   "metadata": {},
   "outputs": [],
   "source": [
    "BB_data_bilal_1 = BB_data_bilal1.copy()\n",
    "BB_data_bilal_2= BB_data_bilal2.copy()"
   ]
  },
  {
   "cell_type": "markdown",
   "id": "0d0e4478",
   "metadata": {},
   "source": [
    "# HERE, we look to see if logBB values are below -2.25"
   ]
  },
  {
   "cell_type": "code",
   "execution_count": 5,
   "id": "1c73e9c8",
   "metadata": {},
   "outputs": [
    {
     "data": {
      "text/plain": [
       "[471]"
      ]
     },
     "execution_count": 5,
     "metadata": {},
     "output_type": "execute_result"
    }
   ],
   "source": [
    "indice = []\n",
    "# for bilal 1\n",
    "for i in range(BB_data_bilal1.shape[0]):\n",
    "    if BB_data_bilal1.iloc[i,0] < -2.25:\n",
    "        indice.append(i)\n",
    "indice"
   ]
  },
  {
   "cell_type": "code",
   "execution_count": 6,
   "id": "189cbb37",
   "metadata": {},
   "outputs": [
    {
     "data": {
      "text/plain": [
       "[1, 2, 3]"
      ]
     },
     "execution_count": 6,
     "metadata": {},
     "output_type": "execute_result"
    }
   ],
   "source": [
    "indice1 = []\n",
    "# for bilal 2\n",
    "for i in range(BB_data_bilal2.shape[0]):\n",
    "    if BB_data_bilal2.iloc[i,919] < -2.25:\n",
    "        indice1.append(i)\n",
    "indice1  "
   ]
  },
  {
   "cell_type": "markdown",
   "id": "5ffcf81d",
   "metadata": {},
   "source": [
    "# Visualisation"
   ]
  },
  {
   "cell_type": "code",
   "execution_count": 7,
   "id": "584e5fcd",
   "metadata": {},
   "outputs": [
    {
     "data": {
      "image/png": "[encoded data removed]",
      "text/plain": [
       "<PIL.PngImagePlugin.PngImageFile image mode=RGB size=300x300 at 0x222C1F82D90>"
      ]
     },
     "execution_count": 7,
     "metadata": {},
     "output_type": "execute_result"
    }
   ],
   "source": [
    "from rdkit import Chem\n",
    "from rdkit.Chem import Draw\n",
    "m_bilal1 = Chem.MolFromSmiles(mols_bilal1[5])\n",
    "m_bilal2 = Chem.MolFromSmiles(mols_bilal1[714])\n",
    "img1 = Draw.MolToImage(m_bilal1)\n",
    "img1\n",
    "#img2 = Draw.MolToImage(m_bilal2) "
   ]
  },
  {
   "cell_type": "code",
   "execution_count": 8,
   "id": "60f94577",
   "metadata": {},
   "outputs": [
    {
     "data": {
      "image/png": "[encoded data removed]",
      "text/plain": [
       "<PIL.PngImagePlugin.PngImageFile image mode=RGB size=300x300 at 0x222C1F828B0>"
      ]
     },
     "execution_count": 8,
     "metadata": {},
     "output_type": "execute_result"
    }
   ],
   "source": [
    "img2 = Draw.MolToImage(m_bilal2) \n",
    "img2"
   ]
  },
  {
   "cell_type": "markdown",
   "id": "fe7cff9a",
   "metadata": {},
   "source": [
    "# 1.1. Search duplicates"
   ]
  },
  {
   "cell_type": "code",
   "execution_count": 9,
   "id": "82c4c2b9",
   "metadata": {},
   "outputs": [],
   "source": [
    "def Search_duplicates(mol_list):\n",
    "    \" Give mol list to detect doublons\"\n",
    "    dupl_list=[]\n",
    "    j=0\n",
    "    length = len(mol_list)\n",
    "    for i in range(length-1):\n",
    "        for j in range(i+1,length):\n",
    "            if mol_list[i]==mol_list[j]:\n",
    "                dupl_list.append(mol_list[j]) \n",
    "    return dupl_list"
   ]
  },
  {
   "cell_type": "markdown",
   "id": "e3dc830d",
   "metadata": {},
   "source": [
    "## Remove duplicates in Billal1 data table"
   ]
  },
  {
   "cell_type": "code",
   "execution_count": 10,
   "id": "71ad9f48",
   "metadata": {},
   "outputs": [
    {
     "data": {
      "text/plain": [
       "['CC(=O)C',\n",
       " 'c1ccccc1',\n",
       " 'CCCCCCCC',\n",
       " 'CO',\n",
       " 'N#[N+][O-]',\n",
       " 'CCCO',\n",
       " 'CCCO',\n",
       " 'CCCO',\n",
       " 'Cc1ccccc1',\n",
       " 'CCC1(CC)C(=O)NC(=O)NC1=O',\n",
       " 'CCOC(=O)c1ccc(N)cc1',\n",
       " 'CC(N)Cc1ccccc1',\n",
       " 'CCOCC',\n",
       " 'CCOCC',\n",
       " 'FC(F)(F)C(Cl)Br',\n",
       " 'CC(C)O',\n",
       " 'CC(C)O',\n",
       " 'CCCC(C)C1(CC)C(=O)NC(=O)NC1=O',\n",
       " 'ClC(Cl)Cl',\n",
       " 'ClC(Cl)Cl',\n",
       " 'CCCCCO',\n",
       " 'C=C',\n",
       " 'C1CC1',\n",
       " 'C1CC1',\n",
       " 'C1CO1',\n",
       " 'CC(C)(C)O',\n",
       " 'CC(C)(C)CC',\n",
       " 'CC(C)CO',\n",
       " 'CC(C)CO',\n",
       " 'ClC(Cl)=CCl',\n",
       " 'CC(=O)OC',\n",
       " 'CCC(C)CC',\n",
       " 'CCC(C)CC',\n",
       " 'CC1CCCC1',\n",
       " 'CC1CCCC1',\n",
       " 'CC1CCCC1',\n",
       " 'CCc1ccccc1',\n",
       " 'Cc1ccc(C)cc1',\n",
       " 'CCCBr',\n",
       " 'C=CC=C',\n",
       " 'CC(C)CCC',\n",
       " 'CC1CCCCC1',\n",
       " 'CCCCC',\n",
       " 'CCCCC',\n",
       " 'CCCCC',\n",
       " 'C=COC=C',\n",
       " 'CCCCCC',\n",
       " 'CCCCCC',\n",
       " 'CCCCCC',\n",
       " 'C1CCCCC1',\n",
       " 'C1CCCCC1',\n",
       " 'C1CCCCC1',\n",
       " 'CCCCCCCCC',\n",
       " 'CC=C',\n",
       " 'CCCCCCC',\n",
       " 'CCCCCCC',\n",
       " 'FC(F)(F)COC=C',\n",
       " 'CC(C)(C)OC',\n",
       " 'CCCCCCCCCC',\n",
       " 'FS(F)(F)(F)(F)F',\n",
       " 'CC(C)(C)C1CCCCC1',\n",
       " 'C=COCCCCOC=C',\n",
       " 'CCCC(C)C1(CC)C(=O)NC(=S)NC1=O',\n",
       " 'CCC(C)CCC',\n",
       " 'C',\n",
       " 'CC(=O)Nc1ccc(O)cc1',\n",
       " 'ClCCl',\n",
       " 'ClCCl',\n",
       " 'C#CCO',\n",
       " 'CCCO',\n",
       " 'CCCO',\n",
       " 'ClCCl',\n",
       " 'Clc1cccc(Cl)c1NC2=NCCN2',\n",
       " 'ClC(Cl)Cl',\n",
       " 'CC(Cl)(Cl)Cl',\n",
       " 'CC(Cl)(Cl)Cl',\n",
       " 'CNCCCN1c2ccccc2Sc3ccccc13',\n",
       " 'N1(Cc2cccc(OCCCNc3ccccn3)c2)CCCCC1',\n",
       " 'CCCCC',\n",
       " 'CCCCC',\n",
       " 'CCCCCC',\n",
       " 'CCCCCC',\n",
       " 'C1CCCCC1',\n",
       " 'C1CCCCC1',\n",
       " 'CC1CCCC1',\n",
       " 'CC1CCCC1',\n",
       " 'CN(C)CCCN1c2ccccc2Sc3ccccc13',\n",
       " 'CN(C)CCCN1c2ccccc2Sc3ccc(Cl)cc13',\n",
       " 'CCOC(=O)N1CCC(CC1)=C3c2ccc(Cl)cc2CCc4cccnc34 ',\n",
       " 'COc3cc(NCc2ccc1nc(N)nc(N)c1c2C)cc(OC)c3OC ',\n",
       " 'CCCC(=O)Nc1ccc(OCC(O)CNC(C)C)c(c1)C(C)=O ',\n",
       " 'NCCC(O)C(=O)NC2CC(N)C(OC1OC(CN)C(O)C(O)C1O)C(O)C2OC3OC(CO)C(O)C(N)C3O ',\n",
       " 'CC3(C)SC2C(NC(=O)C(C(O)=O)c1ccccc1)C(=O)N2C3C(O)=O ',\n",
       " 'CCN(CC)CCCC(C)Nc1ccnc2cc(Cl)ccc12 ',\n",
       " 'Clc5ccc4n(C3CCN(CCCn1c(=O)[nH]c2ccccc12)CC3)c(=O)[nH]c4c5 ',\n",
       " 'CC34CCC1C(CCc2cc(O)ccc12)C3CCC4O ',\n",
       " 'NC(Cc1ccc(O)c(O)c1)C(O)=O ',\n",
       " 'CC2COc3c(N1CCN(C)CC1)c(F)cc4c(=O)c(cn2c34)C(O)=O ',\n",
       " 'CN(C)C4C3CC2Cc1c(ccc(O)c1C(=O)C2=C(O)C3(O)C(=O)C(=C4O)C(N)=O)N(C)C ',\n",
       " 'CC(C)NCC(O)COc1cccc2ccccc12 ',\n",
       " 'COc1cc(cc(OC)c1OC)C7C2C(COC2=O)C(OC4OC3COC(OC3C(O)C4O)c5cccs5)c8cc6OCOc6cc78 ',\n",
       " 'CCC1(O)C(=O)OCc5c1cc3n(Cc4cc2c(CN(C)C)c(O)ccc2nc34)c5=O ',\n",
       " 'COc2ccc(CCN(C)CCCC(C#N)(C(C)C)c1ccc(OC)c(OC)c1)cc2OC ',\n",
       " 'CC3C2C(O)C1C(N(C)C)C(=C(C(N)=O)C(=O)C1(O)C(=C2C(=O)c4c(O)cccc34)O)O ',\n",
       " 'CCC(=C(c1ccccc1)c2ccc(OCCN(C)C)cc2)c3ccccc3 ',\n",
       " 'CC3(C)SC2C(NC(=O)C(C(O)=O)c1ccsc1)C(=O)N2C3C(O)=O ',\n",
       " 'C(Cl)Cl',\n",
       " 'CCCC(C)C',\n",
       " 'CC(C)(C)OC(=O)C1=C2CN(C(=O)C3=C(N2C=N1)C=CS3)C',\n",
       " 'C1=CC=C2C(=C1)C3C(O3)C4=CC=CC=C4N2C(=O)N',\n",
       " 'C1CCCCC1',\n",
       " 'CC(Cl)(Cl)Cl',\n",
       " 'CC(C)CO',\n",
       " 'CCC(C)(C)C',\n",
       " 'CCCC(C)CC',\n",
       " 'CCC(C)CC',\n",
       " 'C1CC1',\n",
       " 'CCOCC',\n",
       " 'CCO',\n",
       " 'CCCCCCC',\n",
       " 'CCCCCC',\n",
       " 'CC1CCCC1',\n",
       " 'CCCCC',\n",
       " 'CCCO',\n",
       " 'CC(C)O',\n",
       " 'CCC1C(=O)N(CC(=O)N(C(C(=O)NC(C(=O)N(C(C(=O)NC(C(=O)NC(C(=O)N(C(C(=O)N(C(C(=O)N(C(C(=O)N(C(C(=O)N1)C(C(C)CC=CC)O)C)C(C)C)C)CC(C)C)C)CC(C)C)C)C)C)CC(C)C)C)C(C)C)CC(C)C)C)C',\n",
       " 'C(Cl)(Cl)Cl',\n",
       " 'CCCNC[C@@](O)([H])CO/C1=C/C=C/C=C1/C(=O)CC/C2=C/C=CC=C2',\n",
       " 'CCC(C)(C)O',\n",
       " 'N[C@@]([H])(C/C1=C/C=C(/O)C(O)=C1)C(O)=O',\n",
       " 'CCC1(C(=O)NCNC1=O)C2=CC=CC=C2',\n",
       " 'CC(CC1=CC=CC=C1)NC',\n",
       " 'C(=CCl)Cl']"
      ]
     },
     "execution_count": 10,
     "metadata": {},
     "output_type": "execute_result"
    }
   ],
   "source": [
    "dupl_list=Search_duplicates(mols_bilal1)\n",
    "dupl_list"
   ]
  },
  {
   "cell_type": "code",
   "execution_count": 11,
   "id": "2e3f42be",
   "metadata": {},
   "outputs": [
    {
     "data": {
      "text/plain": [
       "['CC(=O)C',\n",
       " 'c1ccccc1',\n",
       " 'CCCCCCCC',\n",
       " 'CO',\n",
       " 'N#[N+][O-]',\n",
       " 'CCCO',\n",
       " 'CCCO',\n",
       " 'CCCO',\n",
       " 'Cc1ccccc1',\n",
       " 'CCC1(CC)C(=O)NC(=O)NC1=O',\n",
       " 'CCOC(=O)c1ccc(N)cc1',\n",
       " 'CC(N)Cc1ccccc1',\n",
       " 'CCOCC',\n",
       " 'CCOCC',\n",
       " 'FC(F)(F)C(Cl)Br',\n",
       " 'CC(C)O',\n",
       " 'CC(C)O',\n",
       " 'CCCC(C)C1(CC)C(=O)NC(=O)NC1=O',\n",
       " 'ClC(Cl)Cl',\n",
       " 'ClC(Cl)Cl',\n",
       " 'CCCCCO',\n",
       " 'C=C',\n",
       " 'C1CC1',\n",
       " 'C1CC1',\n",
       " 'C1CO1',\n",
       " 'CC(C)(C)O',\n",
       " 'CC(C)(C)CC',\n",
       " 'CC(C)CO',\n",
       " 'CC(C)CO',\n",
       " 'ClC(Cl)=CCl',\n",
       " 'CC(=O)OC',\n",
       " 'CCC(C)CC',\n",
       " 'CCC(C)CC',\n",
       " 'CC1CCCC1',\n",
       " 'CC1CCCC1',\n",
       " 'CC1CCCC1',\n",
       " 'CCc1ccccc1',\n",
       " 'Cc1ccc(C)cc1',\n",
       " 'CCCBr',\n",
       " 'C=CC=C',\n",
       " 'CC(C)CCC',\n",
       " 'CC1CCCCC1',\n",
       " 'CCCCC',\n",
       " 'CCCCC',\n",
       " 'CCCCC',\n",
       " 'C=COC=C',\n",
       " 'CCCCCC',\n",
       " 'CCCCCC',\n",
       " 'CCCCCC',\n",
       " 'C1CCCCC1',\n",
       " 'C1CCCCC1',\n",
       " 'C1CCCCC1',\n",
       " 'CCCCCCCCC',\n",
       " 'CC=C',\n",
       " 'CCCCCCC',\n",
       " 'CCCCCCC',\n",
       " 'FC(F)(F)COC=C',\n",
       " 'CC(C)(C)OC',\n",
       " 'CCCCCCCCCC',\n",
       " 'FS(F)(F)(F)(F)F',\n",
       " 'CC(C)(C)C1CCCCC1',\n",
       " 'C=COCCCCOC=C',\n",
       " 'CCCC(C)C1(CC)C(=O)NC(=S)NC1=O',\n",
       " 'CCC(C)CCC',\n",
       " 'C',\n",
       " 'CC(=O)Nc1ccc(O)cc1',\n",
       " 'ClCCl',\n",
       " 'ClCCl',\n",
       " 'C#CCO',\n",
       " 'CCCO',\n",
       " 'CCCO',\n",
       " 'ClCCl',\n",
       " 'Clc1cccc(Cl)c1NC2=NCCN2',\n",
       " 'ClC(Cl)Cl',\n",
       " 'CC(Cl)(Cl)Cl',\n",
       " 'CC(Cl)(Cl)Cl',\n",
       " 'CNCCCN1c2ccccc2Sc3ccccc13',\n",
       " 'N1(Cc2cccc(OCCCNc3ccccn3)c2)CCCCC1',\n",
       " 'CCCCC',\n",
       " 'CCCCC',\n",
       " 'CCCCCC',\n",
       " 'CCCCCC',\n",
       " 'C1CCCCC1',\n",
       " 'C1CCCCC1',\n",
       " 'CC1CCCC1',\n",
       " 'CC1CCCC1',\n",
       " 'CN(C)CCCN1c2ccccc2Sc3ccccc13',\n",
       " 'CN(C)CCCN1c2ccccc2Sc3ccc(Cl)cc13',\n",
       " 'CCOC(=O)N1CCC(CC1)=C3c2ccc(Cl)cc2CCc4cccnc34 ',\n",
       " 'COc3cc(NCc2ccc1nc(N)nc(N)c1c2C)cc(OC)c3OC ',\n",
       " 'CCCC(=O)Nc1ccc(OCC(O)CNC(C)C)c(c1)C(C)=O ',\n",
       " 'NCCC(O)C(=O)NC2CC(N)C(OC1OC(CN)C(O)C(O)C1O)C(O)C2OC3OC(CO)C(O)C(N)C3O ',\n",
       " 'CC3(C)SC2C(NC(=O)C(C(O)=O)c1ccccc1)C(=O)N2C3C(O)=O ',\n",
       " 'CCN(CC)CCCC(C)Nc1ccnc2cc(Cl)ccc12 ',\n",
       " 'Clc5ccc4n(C3CCN(CCCn1c(=O)[nH]c2ccccc12)CC3)c(=O)[nH]c4c5 ',\n",
       " 'CC34CCC1C(CCc2cc(O)ccc12)C3CCC4O ',\n",
       " 'NC(Cc1ccc(O)c(O)c1)C(O)=O ',\n",
       " 'CC2COc3c(N1CCN(C)CC1)c(F)cc4c(=O)c(cn2c34)C(O)=O ',\n",
       " 'CN(C)C4C3CC2Cc1c(ccc(O)c1C(=O)C2=C(O)C3(O)C(=O)C(=C4O)C(N)=O)N(C)C ',\n",
       " 'CC(C)NCC(O)COc1cccc2ccccc12 ',\n",
       " 'COc1cc(cc(OC)c1OC)C7C2C(COC2=O)C(OC4OC3COC(OC3C(O)C4O)c5cccs5)c8cc6OCOc6cc78 ',\n",
       " 'CCC1(O)C(=O)OCc5c1cc3n(Cc4cc2c(CN(C)C)c(O)ccc2nc34)c5=O ',\n",
       " 'COc2ccc(CCN(C)CCCC(C#N)(C(C)C)c1ccc(OC)c(OC)c1)cc2OC ',\n",
       " 'CC3C2C(O)C1C(N(C)C)C(=C(C(N)=O)C(=O)C1(O)C(=C2C(=O)c4c(O)cccc34)O)O ',\n",
       " 'CCC(=C(c1ccccc1)c2ccc(OCCN(C)C)cc2)c3ccccc3 ',\n",
       " 'CC3(C)SC2C(NC(=O)C(C(O)=O)c1ccsc1)C(=O)N2C3C(O)=O ',\n",
       " 'C(Cl)Cl',\n",
       " 'CCCC(C)C',\n",
       " 'CC(C)(C)OC(=O)C1=C2CN(C(=O)C3=C(N2C=N1)C=CS3)C',\n",
       " 'C1=CC=C2C(=C1)C3C(O3)C4=CC=CC=C4N2C(=O)N',\n",
       " 'C1CCCCC1',\n",
       " 'CC(Cl)(Cl)Cl',\n",
       " 'CC(C)CO',\n",
       " 'CCC(C)(C)C',\n",
       " 'CCCC(C)CC',\n",
       " 'CCC(C)CC',\n",
       " 'C1CC1',\n",
       " 'CCOCC',\n",
       " 'CCO',\n",
       " 'CCCCCCC',\n",
       " 'CCCCCC',\n",
       " 'CC1CCCC1',\n",
       " 'CCCCC',\n",
       " 'CCCO',\n",
       " 'CC(C)O',\n",
       " 'CCC1C(=O)N(CC(=O)N(C(C(=O)NC(C(=O)N(C(C(=O)NC(C(=O)NC(C(=O)N(C(C(=O)N(C(C(=O)N(C(C(=O)N(C(C(=O)N1)C(C(C)CC=CC)O)C)C(C)C)C)CC(C)C)C)CC(C)C)C)C)C)CC(C)C)C)C(C)C)CC(C)C)C)C',\n",
       " 'C(Cl)(Cl)Cl',\n",
       " 'CCCNC[C@@](O)([H])CO/C1=C/C=C/C=C1/C(=O)CC/C2=C/C=CC=C2',\n",
       " 'CCC(C)(C)O',\n",
       " 'N[C@@]([H])(C/C1=C/C=C(/O)C(O)=C1)C(O)=O',\n",
       " 'CCC1(C(=O)NCNC1=O)C2=CC=CC=C2',\n",
       " 'CC(CC1=CC=CC=C1)NC',\n",
       " 'C(=CCl)Cl']"
      ]
     },
     "execution_count": 11,
     "metadata": {},
     "output_type": "execute_result"
    }
   ],
   "source": [
    "dupl_list"
   ]
  },
  {
   "cell_type": "code",
   "execution_count": 12,
   "id": "997af27a",
   "metadata": {},
   "outputs": [],
   "source": [
    "# Remove duplicate\n",
    "BB_data_bilal_1.drop(dupl_list,axis=0, inplace=True)"
   ]
  },
  {
   "cell_type": "code",
   "execution_count": 29,
   "id": "dd167296",
   "metadata": {},
   "outputs": [
    {
     "data": {
      "text/html": [
       "<div>\n",
       "<style scoped>\n",
       "    .dataframe tbody tr th:only-of-type {\n",
       "        vertical-align: middle;\n",
       "    }\n",
       "\n",
       "    .dataframe tbody tr th {\n",
       "        vertical-align: top;\n",
       "    }\n",
       "\n",
       "    .dataframe thead th {\n",
       "        text-align: right;\n",
       "    }\n",
       "</style>\n",
       "<table border=\"1\" class=\"dataframe\">\n",
       "  <thead>\n",
       "    <tr style=\"text-align: right;\">\n",
       "      <th></th>\n",
       "      <th>logBB</th>\n",
       "      <th>BBclass</th>\n",
       "    </tr>\n",
       "    <tr>\n",
       "      <th>Name</th>\n",
       "      <th></th>\n",
       "      <th></th>\n",
       "    </tr>\n",
       "  </thead>\n",
       "  <tbody>\n",
       "    <tr>\n",
       "      <th>c1cc(F)ccc1Cn(c(c23)cccc2)c(n3)[C@@H]4CCCN(C)C4</th>\n",
       "      <td>0.43</td>\n",
       "      <td>1</td>\n",
       "    </tr>\n",
       "    <tr>\n",
       "      <th>CC1CCN(CC1)C(=O)c(c2)ccc3n(CC=C)c(c4c23)CCN(C4)CC5CC5</th>\n",
       "      <td>-0.13</td>\n",
       "      <td>0</td>\n",
       "    </tr>\n",
       "    <tr>\n",
       "      <th>ClCCCl</th>\n",
       "      <td>-0.14</td>\n",
       "      <td>1</td>\n",
       "    </tr>\n",
       "    <tr>\n",
       "      <th>c1cccc(c1C23C)C(N3)Cc4c2cccc4</th>\n",
       "      <td>1.11</td>\n",
       "      <td>1</td>\n",
       "    </tr>\n",
       "    <tr>\n",
       "      <th>OCCCC</th>\n",
       "      <td>-0.02</td>\n",
       "      <td>0</td>\n",
       "    </tr>\n",
       "    <tr>\n",
       "      <th>...</th>\n",
       "      <td>...</td>\n",
       "      <td>...</td>\n",
       "    </tr>\n",
       "    <tr>\n",
       "      <th>CC1=CC=CC2=C1OC3=CC=CC=C3C4(C2CNCC4)O</th>\n",
       "      <td>0.52</td>\n",
       "      <td>1</td>\n",
       "    </tr>\n",
       "    <tr>\n",
       "      <th>C(C(F)Br)C(F)(F)F</th>\n",
       "      <td>0.27</td>\n",
       "      <td>1</td>\n",
       "    </tr>\n",
       "    <tr>\n",
       "      <th>C[NH2+]CCCN1C2=C(CCC3=CC=CC=C31)C=C(C=C2)O</th>\n",
       "      <td>0.53</td>\n",
       "      <td>1</td>\n",
       "    </tr>\n",
       "    <tr>\n",
       "      <th>C1=CSC(=N1)CC[NH3+]</th>\n",
       "      <td>-0.58</td>\n",
       "      <td>1</td>\n",
       "    </tr>\n",
       "    <tr>\n",
       "      <th>C1C2CNC(C1C3=CC=CC(=O)N3C2)Br</th>\n",
       "      <td>-0.05</td>\n",
       "      <td>1</td>\n",
       "    </tr>\n",
       "  </tbody>\n",
       "</table>\n",
       "<p>6963 rows × 2 columns</p>\n",
       "</div>"
      ],
      "text/plain": [
       "                                                    logBB  BBclass\n",
       "Name                                                              \n",
       "c1cc(F)ccc1Cn(c(c23)cccc2)c(n3)[C@@H]4CCCN(C)C4      0.43        1\n",
       "CC1CCN(CC1)C(=O)c(c2)ccc3n(CC=C)c(c4c23)CCN(C4)...  -0.13        0\n",
       "ClCCCl                                              -0.14        1\n",
       "c1cccc(c1C23C)C(N3)Cc4c2cccc4                        1.11        1\n",
       "OCCCC                                               -0.02        0\n",
       "...                                                   ...      ...\n",
       "CC1=CC=CC2=C1OC3=CC=CC=C3C4(C2CNCC4)O                0.52        1\n",
       "C(C(F)Br)C(F)(F)F                                    0.27        1\n",
       "C[NH2+]CCCN1C2=C(CCC3=CC=CC=C31)C=C(C=C2)O           0.53        1\n",
       "C1=CSC(=N1)CC[NH3+]                                 -0.58        1\n",
       "C1C2CNC(C1C3=CC=CC(=O)N3C2)Br                       -0.05        1\n",
       "\n",
       "[6963 rows x 2 columns]"
      ]
     },
     "execution_count": 29,
     "metadata": {},
     "output_type": "execute_result"
    }
   ],
   "source": [
    "BB_data_bilal_1"
   ]
  },
  {
   "cell_type": "markdown",
   "id": "282e3053",
   "metadata": {},
   "source": [
    "## Remove duplicates in Billal2 data table"
   ]
  },
  {
   "cell_type": "code",
   "execution_count": 14,
   "id": "3880e6ac",
   "metadata": {},
   "outputs": [
    {
     "data": {
      "text/plain": [
       "[]"
      ]
     },
     "execution_count": 14,
     "metadata": {},
     "output_type": "execute_result"
    }
   ],
   "source": [
    "dupl_list2=Search_duplicates(mols_bilal2)\n",
    "dupl_list2"
   ]
  },
  {
   "cell_type": "markdown",
   "id": "8b57eea1",
   "metadata": {},
   "source": [
    "## Remove Nan values_Billal1"
   ]
  },
  {
   "cell_type": "code",
   "execution_count": 31,
   "id": "481cbb3c",
   "metadata": {},
   "outputs": [
    {
     "data": {
      "text/html": [
       "<div>\n",
       "<style scoped>\n",
       "    .dataframe tbody tr th:only-of-type {\n",
       "        vertical-align: middle;\n",
       "    }\n",
       "\n",
       "    .dataframe tbody tr th {\n",
       "        vertical-align: top;\n",
       "    }\n",
       "\n",
       "    .dataframe thead th {\n",
       "        text-align: right;\n",
       "    }\n",
       "</style>\n",
       "<table border=\"1\" class=\"dataframe\">\n",
       "  <thead>\n",
       "    <tr style=\"text-align: right;\">\n",
       "      <th></th>\n",
       "      <th>logBB</th>\n",
       "      <th>BBclass</th>\n",
       "    </tr>\n",
       "    <tr>\n",
       "      <th>Name</th>\n",
       "      <th></th>\n",
       "      <th></th>\n",
       "    </tr>\n",
       "  </thead>\n",
       "  <tbody>\n",
       "    <tr>\n",
       "      <th>FC(F)(Cl)C(F)(F)Cl</th>\n",
       "      <td>NaN</td>\n",
       "      <td>1</td>\n",
       "    </tr>\n",
       "    <tr>\n",
       "      <th>CC1CCCCC1(N1CCCCC1)c1sccc1</th>\n",
       "      <td>NaN</td>\n",
       "      <td>1</td>\n",
       "    </tr>\n",
       "    <tr>\n",
       "      <th>CC(Cc1ccccc1)NCCn2cnc3n(C)c(=O)n(C)c(=O)c23</th>\n",
       "      <td>NaN</td>\n",
       "      <td>1</td>\n",
       "    </tr>\n",
       "    <tr>\n",
       "      <th>CC(=O)NCCCN1CCN(CC1)c2cc(Cl)ccc2Cl</th>\n",
       "      <td>NaN</td>\n",
       "      <td>1</td>\n",
       "    </tr>\n",
       "    <tr>\n",
       "      <th>CC(C)CCCC(C)C3CCC4C2CC(Br)C1(Br)CC(CCC1(C)C2CCC34C)OC(C)=O</th>\n",
       "      <td>NaN</td>\n",
       "      <td>1</td>\n",
       "    </tr>\n",
       "    <tr>\n",
       "      <th>...</th>\n",
       "      <td>...</td>\n",
       "      <td>...</td>\n",
       "    </tr>\n",
       "    <tr>\n",
       "      <th>CO[C@@]1([H])CCC[C@@]2([H])C1=C(C=O)N3C(=O)[C@@]([H])([C@@]23[H])[C@@](C)(O)[H]</th>\n",
       "      <td>NaN</td>\n",
       "      <td>0</td>\n",
       "    </tr>\n",
       "    <tr>\n",
       "      <th>CC/C(=C(/C1=C/C=CC=C1)C2=C/C=C(/OCCN(C)C)C=C2)C3=CC=CC=C3</th>\n",
       "      <td>NaN</td>\n",
       "      <td>0</td>\n",
       "    </tr>\n",
       "    <tr>\n",
       "      <th>CO[C@@]2(NC(=O)[C@@]([H])(C(O)=O)C=1C=C[S]C=1)C(=O)N3[C@@]2([H])[S]C(C)(C)[C@@]3([H])C(O)=O</th>\n",
       "      <td>NaN</td>\n",
       "      <td>0</td>\n",
       "    </tr>\n",
       "    <tr>\n",
       "      <th>CN(C)[C@@]3([H])C(O)=C(C(=O)[C@@]4(O)C(O)=C2C(=O)C1=C(O)C=CC=C1[C@@](C)(O)[C@@]2([H])C[C@@]34[H])C(N)=O</th>\n",
       "      <td>NaN</td>\n",
       "      <td>0</td>\n",
       "    </tr>\n",
       "    <tr>\n",
       "      <th>CC3(C)[S][C@@]1([H])N(C(=O)[C@@]1([H])NC(=O)[C@@]([H])(C(O)=O)C=2C=C[S]C=2)[C@@]3([H])C(O)=O</th>\n",
       "      <td>NaN</td>\n",
       "      <td>0</td>\n",
       "    </tr>\n",
       "  </tbody>\n",
       "</table>\n",
       "<p>5924 rows × 2 columns</p>\n",
       "</div>"
      ],
      "text/plain": [
       "                                                    logBB  BBclass\n",
       "Name                                                              \n",
       "FC(F)(Cl)C(F)(F)Cl                                    NaN        1\n",
       "CC1CCCCC1(N1CCCCC1)c1sccc1                            NaN        1\n",
       "CC(Cc1ccccc1)NCCn2cnc3n(C)c(=O)n(C)c(=O)c23           NaN        1\n",
       "CC(=O)NCCCN1CCN(CC1)c2cc(Cl)ccc2Cl                    NaN        1\n",
       "CC(C)CCCC(C)C3CCC4C2CC(Br)C1(Br)CC(CCC1(C)C2CCC...    NaN        1\n",
       "...                                                   ...      ...\n",
       "CO[C@@]1([H])CCC[C@@]2([H])C1=C(C=O)N3C(=O)[C@@...    NaN        0\n",
       "CC/C(=C(/C1=C/C=CC=C1)C2=C/C=C(/OCCN(C)C)C=C2)C...    NaN        0\n",
       "CO[C@@]2(NC(=O)[C@@]([H])(C(O)=O)C=1C=C[S]C=1)C...    NaN        0\n",
       "CN(C)[C@@]3([H])C(O)=C(C(=O)[C@@]4(O)C(O)=C2C(=...    NaN        0\n",
       "CC3(C)[S][C@@]1([H])N(C(=O)[C@@]1([H])NC(=O)[C@...    NaN        0\n",
       "\n",
       "[5924 rows x 2 columns]"
      ]
     },
     "execution_count": 31,
     "metadata": {},
     "output_type": "execute_result"
    }
   ],
   "source": [
    "BB_data_bilal_1[BB_data_bilal_1.isna().any(axis=1)]"
   ]
  },
  {
   "cell_type": "code",
   "execution_count": 32,
   "id": "01610687",
   "metadata": {},
   "outputs": [
    {
     "data": {
      "text/html": [
       "<div>\n",
       "<style scoped>\n",
       "    .dataframe tbody tr th:only-of-type {\n",
       "        vertical-align: middle;\n",
       "    }\n",
       "\n",
       "    .dataframe tbody tr th {\n",
       "        vertical-align: top;\n",
       "    }\n",
       "\n",
       "    .dataframe thead th {\n",
       "        text-align: right;\n",
       "    }\n",
       "</style>\n",
       "<table border=\"1\" class=\"dataframe\">\n",
       "  <thead>\n",
       "    <tr style=\"text-align: right;\">\n",
       "      <th></th>\n",
       "      <th>AATS0Z</th>\n",
       "      <th>AATS0are</th>\n",
       "      <th>AATS0d</th>\n",
       "      <th>AATS0dv</th>\n",
       "      <th>AATS0i</th>\n",
       "      <th>AATS0m</th>\n",
       "      <th>AATS0p</th>\n",
       "      <th>AATS0pe</th>\n",
       "      <th>AATS0se</th>\n",
       "      <th>AATS0v</th>\n",
       "      <th>...</th>\n",
       "      <th>piPC10</th>\n",
       "      <th>piPC2</th>\n",
       "      <th>piPC3</th>\n",
       "      <th>piPC4</th>\n",
       "      <th>piPC5</th>\n",
       "      <th>piPC6</th>\n",
       "      <th>piPC7</th>\n",
       "      <th>piPC8</th>\n",
       "      <th>piPC9</th>\n",
       "      <th>logBB</th>\n",
       "    </tr>\n",
       "    <tr>\n",
       "      <th>NAME</th>\n",
       "      <th></th>\n",
       "      <th></th>\n",
       "      <th></th>\n",
       "      <th></th>\n",
       "      <th></th>\n",
       "      <th></th>\n",
       "      <th></th>\n",
       "      <th></th>\n",
       "      <th></th>\n",
       "      <th></th>\n",
       "      <th></th>\n",
       "      <th></th>\n",
       "      <th></th>\n",
       "      <th></th>\n",
       "      <th></th>\n",
       "      <th></th>\n",
       "      <th></th>\n",
       "      <th></th>\n",
       "      <th></th>\n",
       "      <th></th>\n",
       "      <th></th>\n",
       "    </tr>\n",
       "  </thead>\n",
       "  <tbody>\n",
       "  </tbody>\n",
       "</table>\n",
       "<p>0 rows × 920 columns</p>\n",
       "</div>"
      ],
      "text/plain": [
       "Empty DataFrame\n",
       "Columns: [AATS0Z, AATS0are, AATS0d, AATS0dv, AATS0i, AATS0m, AATS0p, AATS0pe, AATS0se, AATS0v, AATS1Z, AATS1are, AATS1d, AATS1dv, AATS1i, AATS1m, AATS1p, AATS1pe, AATS1se, AATS1v, AATS2Z, AATS2are, AATS2d, AATS2dv, AATS2i, AATS2m, AATS2p, AATS2pe, AATS2se, AATS2v, AATS3Z, AATS3are, AATS3d, AATS3dv, AATS3i, AATS3m, AATS3p, AATS3pe, AATS3se, AATS3v, AATSC0Z, AATSC0are, AATSC0c, AATSC0d, AATSC0dv, AATSC0i, AATSC0m, AATSC0p, AATSC0pe, AATSC0se, AATSC0v, AATSC1Z, AATSC1are, AATSC1c, AATSC1d, AATSC1dv, AATSC1i, AATSC1m, AATSC1p, AATSC1pe, AATSC1se, AATSC1v, AATSC2Z, AATSC2are, AATSC2c, AATSC2d, AATSC2dv, AATSC2i, AATSC2m, AATSC2p, AATSC2pe, AATSC2se, AATSC2v, AATSC3Z, AATSC3are, AATSC3c, AATSC3d, AATSC3dv, AATSC3i, AATSC3m, AATSC3p, AATSC3pe, AATSC3se, AATSC3v, ABC, ABCGG, AMW, ATS0Z, ATS0are, ATS0d, ATS0dv, ATS0i, ATS0m, ATS0p, ATS0pe, ATS0se, ATS0v, ATS1Z, ATS1are, ATS1d, ...]\n",
       "Index: []\n",
       "\n",
       "[0 rows x 920 columns]"
      ]
     },
     "execution_count": 32,
     "metadata": {},
     "output_type": "execute_result"
    }
   ],
   "source": [
    "BB_data_bilal_2[BB_data_bilal_2.isna().any(axis=1)]"
   ]
  },
  {
   "cell_type": "code",
   "execution_count": 33,
   "id": "713c4d9c",
   "metadata": {},
   "outputs": [
    {
     "data": {
      "text/plain": [
       "(1000, 920)"
      ]
     },
     "execution_count": 33,
     "metadata": {},
     "output_type": "execute_result"
    }
   ],
   "source": [
    "BB_data_bilal_2.shape"
   ]
  },
  {
   "cell_type": "code",
   "execution_count": null,
   "id": "3e007b3a",
   "metadata": {},
   "outputs": [],
   "source": []
  }
 ],
 "metadata": {
  "kernelspec": {
   "display_name": "rdkit_gnn",
   "language": "python",
   "name": "rdkit_gnn"
  },
  "language_info": {
   "codemirror_mode": {
    "name": "ipython",
    "version": 3
   },
   "file_extension": ".py",
   "mimetype": "text/x-python",
   "name": "python",
   "nbconvert_exporter": "python",
   "pygments_lexer": "ipython3",
   "version": "3.9.2"
  }
 },
 "nbformat": 4,
 "nbformat_minor": 5
}
